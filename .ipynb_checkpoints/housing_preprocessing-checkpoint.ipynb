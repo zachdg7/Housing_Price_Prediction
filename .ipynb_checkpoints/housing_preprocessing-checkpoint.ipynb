{
 "cells": [
  {
   "cell_type": "markdown",
   "metadata": {},
   "source": [
    "# Cleaning Notebook\n",
    "\n",
    "### Goal: Clean and Save Training and Test Data"
   ]
  },
  {
   "cell_type": "code",
   "execution_count": 1,
   "metadata": {},
   "outputs": [],
   "source": [
    "import pandas as pd\n",
    "import numpy as np\n",
    "import matplotlib.pyplot as plt"
   ]
  },
  {
   "cell_type": "markdown",
   "metadata": {},
   "source": [
    "### Load the Data:"
   ]
  },
  {
   "cell_type": "code",
   "execution_count": 2,
   "metadata": {},
   "outputs": [],
   "source": [
    "train = pd.read_csv('train.csv')\n",
    "test = pd.read_csv('test.csv')"
   ]
  },
  {
   "cell_type": "markdown",
   "metadata": {},
   "source": [
    "# Explore the Data:"
   ]
  },
  {
   "cell_type": "markdown",
   "metadata": {},
   "source": [
    "### Which features have the most nulls?"
   ]
  },
  {
   "cell_type": "code",
   "execution_count": 3,
   "metadata": {},
   "outputs": [
    {
     "data": {
      "text/plain": [
       "Pool QC           875\n",
       "Misc Feature      838\n",
       "Alley             821\n",
       "Fence             707\n",
       "Fireplace Qu      422\n",
       "Lot Frontage      160\n",
       "Garage Cond        45\n",
       "Garage Qual        45\n",
       "Garage Yr Blt      45\n",
       "Garage Finish      45\n",
       "Garage Type        44\n",
       "Bsmt Exposure      25\n",
       "BsmtFin Type 1     25\n",
       "Bsmt Qual          25\n",
       "BsmtFin Type 2     25\n",
       "Bsmt Cond          25\n",
       "Mas Vnr Area        1\n",
       "Mas Vnr Type        1\n",
       "Electrical          1\n",
       "Overall Cond        0\n",
       "dtype: int64"
      ]
     },
     "execution_count": 3,
     "metadata": {},
     "output_type": "execute_result"
    }
   ],
   "source": [
    "most_null = test.isnull().sum().sort_values(ascending=False).head(20)\n",
    "most_null"
   ]
  },
  {
   "cell_type": "markdown",
   "metadata": {},
   "source": [
    "# Fill Null Values:\n",
    "The null values in the following features represent 'none' values according to the data description. <br>\n",
    "\n",
    "For example, when 'Pool QC' is null it means there is no pool."
   ]
  },
  {
   "cell_type": "code",
   "execution_count": 4,
   "metadata": {},
   "outputs": [],
   "source": [
    "# this row contains missing values in all garage features except 'Garage Type' \n",
    "# which could indicate it was erroneously input\n",
    "# so we're dropping that row(1712) before filling in the nan values\n",
    "# the is a similar situation with 'Bsmt Exposure'\n",
    "train.drop(index=[1712, 1456, 1547, 1996], inplace=True)\n",
    "train.reset_index(drop=True, inplace=True)"
   ]
  },
  {
   "cell_type": "code",
   "execution_count": 5,
   "metadata": {},
   "outputs": [],
   "source": [
    "# Fill nans to prepare for one-hot encoding\n",
    "fill_none_cols = ['Pool QC', 'Misc Feature', 'Alley', 'Fence', 'Fireplace Qu', 'Garage Type',\n",
    "                  'Garage Finish', 'Garage Qual', 'Garage Cond', 'Bsmt Exposure', 'BsmtFin Type 2',\n",
    "                  'BsmtFin Type 1', 'Bsmt Cond', 'Bsmt Qual', 'Electrical', 'Mas Vnr Type']\n",
    "\n",
    "for feat in fill_none_cols:\n",
    "    filler = 'no_' + feat.lower().replace(' ', '_')\n",
    "    train[feat].fillna(value = filler, inplace = True)\n",
    "    test[feat].fillna(value = filler, inplace = True)"
   ]
  },
  {
   "cell_type": "code",
   "execution_count": 6,
   "metadata": {},
   "outputs": [],
   "source": [
    "# Fill missing lot frontage values with 0\n",
    "# Here I'm assuming when lot frontage is missing the frontage is 0\n",
    "#     Loss frontage could be incalculable when the property does not touch the road, \n",
    "#     it may be driveway access only\n",
    "for ref in ['Lot Frontage', 'Garage Yr Blt', 'Mas Vnr Area']:\n",
    "    train[ref].fillna(value = 0, inplace=True)\n",
    "    test[ref].fillna(value = 0, inplace=True)"
   ]
  },
  {
   "cell_type": "code",
   "execution_count": 7,
   "metadata": {},
   "outputs": [],
   "source": [
    "# There seem to be some erroneous inputs in 'Mas Vnr Type' and 'Mas Vnr Area'\n",
    "# I hesitate to fill them with none because they already should be filled according to the data description\n",
    "#     there are only 22 of these cases so I'm just going to drop them\n",
    "# in fact the rest of the nulls are in this situation\n",
    "train.dropna(inplace=True)"
   ]
  },
  {
   "cell_type": "code",
   "execution_count": 8,
   "metadata": {},
   "outputs": [
    {
     "name": "stdout",
     "output_type": "stream",
     "text": [
      "Nulls in train:  0\n",
      "Nulls in test:  0\n"
     ]
    }
   ],
   "source": [
    "# Total null values should be 0 now\n",
    "print('Nulls in train: ', train.isnull().sum().sum())\n",
    "print('Nulls in test: ', test.isnull().sum().sum())"
   ]
  },
  {
   "cell_type": "markdown",
   "metadata": {},
   "source": [
    "# Make Dummy Variables:"
   ]
  },
  {
   "cell_type": "code",
   "execution_count": 9,
   "metadata": {},
   "outputs": [],
   "source": [
    "# numeric columns that need to be converted to objects\n",
    "int_to_obj = ['MS SubClass', 'Overall Qual', 'Full Bath', 'Half Bath', 'Bedroom AbvGr',\n",
    "              'Kitchen AbvGr', 'TotRms AbvGrd', 'Fireplaces']\n",
    "\n",
    "float_to_obj = ['Bsmt Full Bath', 'Bsmt Half Bath', 'Garage Cars']\n",
    "\n",
    "str_dummies = list(train.select_dtypes(include=['object']))\n",
    "\n",
    "# Make the dummy variables\n",
    "dum_train = pd.get_dummies(train, drop_first=True, columns=int_to_obj+float_to_obj+str_dummies)\n",
    "dum_test = pd.get_dummies(test, drop_first=True, columns=int_to_obj+float_to_obj+str_dummies)"
   ]
  },
  {
   "cell_type": "markdown",
   "metadata": {},
   "source": [
    "### Add Extra Columns in Trainings Set to Test Set"
   ]
  },
  {
   "cell_type": "code",
   "execution_count": 10,
   "metadata": {},
   "outputs": [],
   "source": [
    "# Make list of columns in training data not in test data\n",
    "extra_train_cols = [col_name for col_name in list(dum_train.columns)  \n",
    "                    if col_name not in list(dum_test.columns)+['SalePrice']]\n",
    "\n",
    "# Add each extra column to test data\n",
    "for column in extra_train_cols:\n",
    "    dum_test[column] = 0"
   ]
  },
  {
   "cell_type": "markdown",
   "metadata": {},
   "source": [
    "### Save Clean Data"
   ]
  },
  {
   "cell_type": "code",
   "execution_count": 11,
   "metadata": {},
   "outputs": [],
   "source": [
    "# dum_train.to_csv('clean_train.csv',index=False)\n",
    "# dum_test.to_csv('clean_test.csv',index=False)"
   ]
  }
 ],
 "metadata": {
  "kernelspec": {
   "display_name": "Python 3",
   "language": "python",
   "name": "python3"
  },
  "language_info": {
   "codemirror_mode": {
    "name": "ipython",
    "version": 3
   },
   "file_extension": ".py",
   "mimetype": "text/x-python",
   "name": "python",
   "nbconvert_exporter": "python",
   "pygments_lexer": "ipython3",
   "version": "3.6.7"
  }
 },
 "nbformat": 4,
 "nbformat_minor": 2
}
