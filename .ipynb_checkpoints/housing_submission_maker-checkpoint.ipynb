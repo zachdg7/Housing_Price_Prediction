{
 "cells": [
  {
   "cell_type": "markdown",
   "metadata": {},
   "source": [
    "# Housing Sale Price Predictions"
   ]
  },
  {
   "cell_type": "markdown",
   "metadata": {},
   "source": [
    "### Imports:"
   ]
  },
  {
   "cell_type": "code",
   "execution_count": 1,
   "metadata": {},
   "outputs": [],
   "source": [
    "import pandas as pd\n",
    "import numpy as np\n",
    "import matplotlib.pyplot as plt\n",
    "import time\n",
    "from math import sqrt\n",
    "# from itertools import combinations\n",
    "\n",
    "# Scikit-Learn Imports\n",
    "from sklearn.preprocessing import PolynomialFeatures, StandardScaler\n",
    "from sklearn.model_selection import train_test_split, KFold, cross_val_score, GridSearchCV\n",
    "from sklearn.linear_model import Ridge, LinearRegression, RidgeCV, LassoCV, ElasticNetCV, Lasso, ElasticNet\n",
    "from sklearn.metrics import r2_score, mean_squared_error\n",
    "from sklearn.feature_selection import f_regression, SelectKBest, RFE, RFECV\n",
    "from sklearn.ensemble import RandomForestRegressor, AdaBoostRegressor, GradientBoostingRegressor, ExtraTreesRegressor\n",
    "from sklearn.neighbors import KNeighborsRegressor\n",
    "from sklearn import svm\n",
    "from sklearn.decomposition import PCA\n",
    "\n",
    "%matplotlib inline"
   ]
  },
  {
   "cell_type": "code",
   "execution_count": 2,
   "metadata": {},
   "outputs": [],
   "source": [
    "# Random Seed Value\n",
    "rand = 112"
   ]
  },
  {
   "cell_type": "markdown",
   "metadata": {},
   "source": [
    "### Load the Data:"
   ]
  },
  {
   "cell_type": "code",
   "execution_count": 3,
   "metadata": {},
   "outputs": [],
   "source": [
    "df = pd.read_csv('clean_train.csv')\n",
    "test = pd.read_csv('clean_test.csv')"
   ]
  },
  {
   "cell_type": "code",
   "execution_count": 4,
   "metadata": {},
   "outputs": [],
   "source": [
    "# # also drop 'SalePrice' because it is the target\n",
    "# df.drop('SalePrice', axis = 1, inplace =True)\n",
    "# drop PID ID"
   ]
  },
  {
   "cell_type": "markdown",
   "metadata": {},
   "source": [
    "# Feature Engineering:"
   ]
  },
  {
   "cell_type": "markdown",
   "metadata": {},
   "source": [
    "### Calculate Age:"
   ]
  },
  {
   "cell_type": "code",
   "execution_count": 5,
   "metadata": {},
   "outputs": [],
   "source": [
    "# should I keep months in one-hot encoding it account for autocorrelation?"
   ]
  },
  {
   "cell_type": "code",
   "execution_count": 6,
   "metadata": {},
   "outputs": [],
   "source": [
    "# # Calculate age of building and drop 'Year Built'\n",
    "# df['Age'] = df['Yr Sold'] - df['Year Built']\n",
    "# df.drop(columns=['Year Built'], axis = 1, inplace=True)\n",
    "\n",
    "# test_df['Age'] = test_df['Yr Sold'] - test_df['Year Built']\n",
    "# test_df.drop(columns=['Year Built'], axis = 1, inplace=True)"
   ]
  },
  {
   "cell_type": "markdown",
   "metadata": {},
   "source": [
    "### Total Baths:"
   ]
  },
  {
   "cell_type": "code",
   "execution_count": 7,
   "metadata": {},
   "outputs": [],
   "source": [
    "# # Calculate total baths and drop the columns its derived from\n",
    "# df['Total Baths'] = df['Full Bath'] + df['Half Bath']/2 + df['Bsmt Full Bath'] + df['Bsmt Half Bath']/2\n",
    "# df.drop(columns=['Half Bath', 'Full Bath', 'Bsmt Half Bath', 'Bsmt Full Bath'], axis = 1, inplace=True)\n",
    "\n",
    "# test_df['Total Baths'] = test_df['Full Bath'] + test_df['Half Bath']/2 + test_df['Bsmt Full Bath'] + test_df['Bsmt Half Bath']/2\n",
    "# test_df.drop(columns=['Half Bath', 'Full Bath', 'Bsmt Half Bath', 'Bsmt Full Bath'], axis = 1, inplace=True)"
   ]
  },
  {
   "cell_type": "markdown",
   "metadata": {},
   "source": [
    "### Calculate number of months since start of first sale year:"
   ]
  },
  {
   "cell_type": "code",
   "execution_count": 8,
   "metadata": {},
   "outputs": [],
   "source": [
    "# # Calculate number of months since start of first sale year\n",
    "# df['Mo Sold After 1/1/2006'] = (df['Yr Sold'] - 2006) * 12 + df['Mo Sold']\n",
    "# df.drop(columns=['Mo Sold'], axis = 1, inplace=True)\n",
    "\n",
    "# test_df['Mo Sold After 1/1/2006'] = (test_df['Yr Sold'] - 2006) * 12 + test_df['Mo Sold']\n",
    "# test_df.drop(columns=['Mo Sold'], axis = 1, inplace=True)"
   ]
  },
  {
   "cell_type": "markdown",
   "metadata": {},
   "source": [
    "### Change remodel year to years since remodel:\n",
    "The data will show age built if there was no remodel"
   ]
  },
  {
   "cell_type": "code",
   "execution_count": 9,
   "metadata": {},
   "outputs": [],
   "source": [
    "# # change remodel year to years since remodel, the data will show age built if there was no remodel\n",
    "# df['Yrs since Remodel'] = df['Yr Sold'] - df['Year Remod/Add']\n",
    "# df.drop(columns=['Yr Sold', 'Year Remod/Add'], axis = 1, inplace=True)\n",
    "\n",
    "# test_df['Yrs since Remodel'] = test_df['Yr Sold'] - test_df['Year Remod/Add']\n",
    "# test_df.drop(columns=['Yr Sold', 'Year Remod/Add'], axis = 1, inplace=True)"
   ]
  },
  {
   "cell_type": "markdown",
   "metadata": {},
   "source": [
    "### Calculate non-bdrm rooms abvgrd from bedrooms and rooms to reduce structural multicollinearity"
   ]
  },
  {
   "cell_type": "code",
   "execution_count": 10,
   "metadata": {},
   "outputs": [],
   "source": [
    "# # calculate non-bdrm rooms abvgrd from bedrooms and rooms to reduce structural multicollinearity\n",
    "# df['Non-bdrm Rooms AbvGrd'] = df['TotRms AbvGrd'] - df['Bedroom AbvGr']\n",
    "# df.drop(columns=['TotRms AbvGrd'], axis = 1, inplace=True)\n",
    "\n",
    "# test_df['Non-bdrm Rooms AbvGrd'] = test_df['TotRms AbvGrd'] - test_df['Bedroom AbvGr']\n",
    "# test_df.drop(columns=['TotRms AbvGrd'], axis = 1, inplace=True)"
   ]
  },
  {
   "cell_type": "markdown",
   "metadata": {},
   "source": [
    "# Polynomial Interaction Features:"
   ]
  },
  {
   "cell_type": "code",
   "execution_count": 11,
   "metadata": {},
   "outputs": [],
   "source": [
    "# # make interaction terms\n",
    "# pf = PolynomialFeatures(include_bias = False)\n",
    "# poly_df = pf.fit_transform(pre_interact_df)\n",
    "# column_names = pf.get_feature_names(pre_interact_df.columns)\n",
    "# poly_df = pd.DataFrame(poly_df, columns = column_names)\n",
    "\n",
    "# # do the same thing for the test set\n",
    "# pf = PolynomialFeatures(include_bias = False)\n",
    "# test_poly_df = pf.fit_transform(test_pre_interact_df)\n",
    "# test_poly_df = pd.DataFrame(test_poly_df, columns = column_names)"
   ]
  },
  {
   "cell_type": "markdown",
   "metadata": {},
   "source": [
    " # Select Features:"
   ]
  },
  {
   "cell_type": "code",
   "execution_count": 12,
   "metadata": {},
   "outputs": [],
   "source": [
    "# get features list from training data, except 'SalePrice'\n",
    "all_features = list(df.columns)\n",
    "features = [x for x in all_features if x not in ['SalePrice', 'Id', 'PID']]\n",
    "# features = all_features.remove(['SalePrice', 'Id', 'PID'])\n",
    "\n",
    "# make sure test_scaled_df has the same features as scaled_df\n",
    "test_df = test[features]\n",
    "\n",
    "# Create X predictor matrix and target\n",
    "X = df[features]\n",
    "y = df['SalePrice']"
   ]
  },
  {
   "cell_type": "markdown",
   "metadata": {},
   "source": [
    "# Train-Test Split:"
   ]
  },
  {
   "cell_type": "code",
   "execution_count": 13,
   "metadata": {},
   "outputs": [],
   "source": [
    "X_train, X_holdout, y_train, y_holdout = train_test_split(X, y,\n",
    "                                                          test_size = .3, random_state=rand)"
   ]
  },
  {
   "cell_type": "markdown",
   "metadata": {},
   "source": [
    "# Scaling:"
   ]
  },
  {
   "cell_type": "code",
   "execution_count": 14,
   "metadata": {},
   "outputs": [],
   "source": [
    "# Seperate one-hot encoded features so you don't scale them?\n",
    "# try both ways"
   ]
  },
  {
   "cell_type": "code",
   "execution_count": 15,
   "metadata": {},
   "outputs": [
    {
     "name": "stderr",
     "output_type": "stream",
     "text": [
      "/Users/zachgreen/anaconda3/lib/python3.6/site-packages/sklearn/preprocessing/data.py:625: DataConversionWarning: Data with input dtype int64, float64 were all converted to float64 by StandardScaler.\n",
      "  return self.partial_fit(X, y)\n",
      "/Users/zachgreen/anaconda3/lib/python3.6/site-packages/sklearn/base.py:462: DataConversionWarning: Data with input dtype int64, float64 were all converted to float64 by StandardScaler.\n",
      "  return self.fit(X, **fit_params).transform(X)\n",
      "/Users/zachgreen/anaconda3/lib/python3.6/site-packages/ipykernel_launcher.py:10: DataConversionWarning: Data with input dtype int64, float64 were all converted to float64 by StandardScaler.\n",
      "  # Remove the CWD from sys.path while we load stuff.\n",
      "/Users/zachgreen/anaconda3/lib/python3.6/site-packages/ipykernel_launcher.py:14: DataConversionWarning: Data with input dtype int64, float64 were all converted to float64 by StandardScaler.\n",
      "  \n"
     ]
    }
   ],
   "source": [
    "# Scaling\n",
    "ss = StandardScaler()\n",
    "\n",
    "# Fit to X_train and scale\n",
    "sc_X_train = ss.fit_transform(X_train)\n",
    "sc_X_train = pd.DataFrame(sc_X_train, columns=X.columns)\n",
    "\n",
    "\n",
    "# Scale holout\n",
    "sc_X_holdout = ss.transform(X_holdout)\n",
    "sc_X_holdout = pd.DataFrame(sc_X_holdout, columns=X.columns)\n",
    "\n",
    "# Scale test set\n",
    "sc_test = ss.transform(test_df)\n",
    "sc_test = pd.DataFrame(sc_test, columns=X.columns)"
   ]
  },
  {
   "cell_type": "code",
   "execution_count": 16,
   "metadata": {},
   "outputs": [],
   "source": [
    "# #add the dummies to the scaled dfs\n",
    "# scaled_df = pd.concat([scaled_df, dummy_df], axis = 1)\n",
    "# test_scaled_df = pd.concat([test_scaled_df, dummy_test_df], axis = 1)"
   ]
  },
  {
   "cell_type": "markdown",
   "metadata": {},
   "source": [
    "### PCA"
   ]
  },
  {
   "cell_type": "code",
   "execution_count": 17,
   "metadata": {},
   "outputs": [
    {
     "name": "stdout",
     "output_type": "stream",
     "text": [
      "Explained variance:             [0.06000564 0.02960797 0.02542366 0.02132747 0.0204247  0.01843965\n",
      " 0.01556305 0.01401317 0.01291752 0.01183552 0.01168151 0.01116369\n",
      " 0.01080382 0.01043318 0.00990451 0.00962279 0.00944189 0.00921281\n",
      " 0.00881038 0.0086435  0.00856313 0.00839539 0.00822715 0.00805614\n",
      " 0.00794249 0.00778124 0.00769876 0.00747692 0.00733628 0.00726261\n",
      " 0.00710455 0.00702221 0.00676962 0.00672236 0.00650453]\n",
      "Cumulative explained variance:  [0.06000564 0.08961361 0.11503727 0.13636474 0.15678944 0.17522909\n",
      " 0.19079214 0.20480531 0.21772283 0.22955835 0.24123987 0.25240355\n",
      " 0.26320737 0.27364055 0.28354506 0.29316785 0.30260974 0.31182255\n",
      " 0.32063293 0.32927643 0.33783957 0.34623496 0.35446211 0.36251825\n",
      " 0.37046074 0.37824198 0.38594074 0.39341766 0.40075394 0.40801655\n",
      " 0.4151211  0.42214331 0.42891293 0.43563529 0.44213982]\n"
     ]
    }
   ],
   "source": [
    "# Make sure to scale before PCA\n",
    "pca = PCA(n_components = 35) #n_components = 2\n",
    "pca = pca.fit(sc_X_train)\n",
    "\n",
    "# Transform the data\n",
    "pca_train = pca.transform(sc_X_train)\n",
    "pca_holdout = pca.transform(sc_X_holdout)\n",
    "pca_test = pca.transform(sc_test)\n",
    "\n",
    "# How much of the variance is explained by the components\n",
    "var_exp = pca.explained_variance_ratio_\n",
    "print('Explained variance:            ', var_exp)\n",
    "\n",
    "# Cumulative variance explained\n",
    "cum_var_exp = np.cumsum(var_exp)\n",
    "print('Cumulative explained variance: ', cum_var_exp)"
   ]
  },
  {
   "cell_type": "markdown",
   "metadata": {},
   "source": [
    "# Modeling Function: \n",
    "---"
   ]
  },
  {
   "cell_type": "markdown",
   "metadata": {},
   "source": [
    "The following are necessary to save the results:"
   ]
  },
  {
   "cell_type": "code",
   "execution_count": 18,
   "metadata": {},
   "outputs": [],
   "source": [
    "index_labels = ['Holdout score','Train score', 'Holdout RMSE', 'Best Params', 'Params Tried', 'Notes']\n",
    "\n",
    "all_results = pd.DataFrame(index=index_labels)\n",
    "\n",
    "# set dataframe options to display long strings rather than truncating them\n",
    "pd.set_option('display.max_colwidth', 10000)"
   ]
  },
  {
   "cell_type": "code",
   "execution_count": 19,
   "metadata": {},
   "outputs": [],
   "source": [
    "def fit_model(model, model_name, params, all_results, notes):\n",
    "    start_time = time.time() # watch the clock\n",
    "    \n",
    "    # fit the model\n",
    "    model = GridSearchCV(model, params, n_jobs=-1, cv = 3)\n",
    "    model.fit(pca_train, y_train)\n",
    "    \n",
    "    # pick out the best model\n",
    "    best_model = model.best_estimator_\n",
    "    \n",
    "    # make predictions\n",
    "    pred = best_model.predict(pca_holdout)\n",
    "    \n",
    "    # Calculate results\n",
    "    index_labels = ['Holdout score', 'Train score', 'Holdout RMSE', 'Best Params', 'Params Tried', 'Notes'] # 'Sensitivity', 'Specificity', 'Precision'\n",
    "    result = pd.DataFrame(index = index_labels, columns=[model_name])\n",
    "    result.loc['Holdout score'][model_name] = round(best_model.score(pca_holdout, y_holdout), 3)\n",
    "    result.loc['Train score'][model_name] = round(model.best_score_, 3)\n",
    "    result.loc['Holdout RMSE'][model_name] = round(sqrt(mean_squared_error(y_holdout, pred)), 3)\n",
    "    result.loc['Best Params'][model_name] = model.best_params_\n",
    "    result.loc['Params Tried'][model_name] = params\n",
    "    result.loc['Notes'][model_name] = notes\n",
    "\n",
    "    display(result.head(3)) # display test results\n",
    "    display(result.tail(3)) # display parameters and notes\n",
    "\n",
    "    # add results and params to all_results and all_params\n",
    "    all_results = pd.concat([all_results, result], axis=1)\n",
    "    \n",
    "    # plot actual vs. predicted\n",
    "    fig, ax = plt.subplots(figsize=(8,6))\n",
    "    plt.scatter(y_holdout, pred)\n",
    "    ax.set_xlabel('True Values', size = 20)\n",
    "    ax.set_ylabel('Predictions', size = 20)\n",
    "    plt.title('Predictions vs. Actual', size = 20)\n",
    "    ax.grid()\n",
    "    plt.plot([0, 600000], [0, 600000], 'k--', lw=3)\n",
    "    \n",
    "    # print the runtime\n",
    "    end_time = time.time()\n",
    "    print('Runtime: ', round((end_time - start_time)/60, 3), ' minutes')\n",
    "    \n",
    "    return all_results, best_model, pred # all_params"
   ]
  },
  {
   "cell_type": "markdown",
   "metadata": {},
   "source": [
    "# Model Mania!!!"
   ]
  },
  {
   "cell_type": "code",
   "execution_count": 20,
   "metadata": {},
   "outputs": [],
   "source": [
    "# Retune everything with new data"
   ]
  },
  {
   "cell_type": "markdown",
   "metadata": {},
   "source": [
    "### Linear Regression"
   ]
  },
  {
   "cell_type": "code",
   "execution_count": 21,
   "metadata": {},
   "outputs": [
    {
     "data": {
      "text/html": [
       "<div>\n",
       "<style scoped>\n",
       "    .dataframe tbody tr th:only-of-type {\n",
       "        vertical-align: middle;\n",
       "    }\n",
       "\n",
       "    .dataframe tbody tr th {\n",
       "        vertical-align: top;\n",
       "    }\n",
       "\n",
       "    .dataframe thead th {\n",
       "        text-align: right;\n",
       "    }\n",
       "</style>\n",
       "<table border=\"1\" class=\"dataframe\">\n",
       "  <thead>\n",
       "    <tr style=\"text-align: right;\">\n",
       "      <th></th>\n",
       "      <th>Linear Reg</th>\n",
       "    </tr>\n",
       "  </thead>\n",
       "  <tbody>\n",
       "    <tr>\n",
       "      <th>Holdout score</th>\n",
       "      <td>0.84</td>\n",
       "    </tr>\n",
       "    <tr>\n",
       "      <th>Train score</th>\n",
       "      <td>0.779</td>\n",
       "    </tr>\n",
       "    <tr>\n",
       "      <th>Holdout RMSE</th>\n",
       "      <td>31693.9</td>\n",
       "    </tr>\n",
       "  </tbody>\n",
       "</table>\n",
       "</div>"
      ],
      "text/plain": [
       "              Linear Reg\n",
       "Holdout score       0.84\n",
       "Train score        0.779\n",
       "Holdout RMSE     31693.9"
      ]
     },
     "metadata": {},
     "output_type": "display_data"
    },
    {
     "data": {
      "text/html": [
       "<div>\n",
       "<style scoped>\n",
       "    .dataframe tbody tr th:only-of-type {\n",
       "        vertical-align: middle;\n",
       "    }\n",
       "\n",
       "    .dataframe tbody tr th {\n",
       "        vertical-align: top;\n",
       "    }\n",
       "\n",
       "    .dataframe thead th {\n",
       "        text-align: right;\n",
       "    }\n",
       "</style>\n",
       "<table border=\"1\" class=\"dataframe\">\n",
       "  <thead>\n",
       "    <tr style=\"text-align: right;\">\n",
       "      <th></th>\n",
       "      <th>Linear Reg</th>\n",
       "    </tr>\n",
       "  </thead>\n",
       "  <tbody>\n",
       "    <tr>\n",
       "      <th>Best Params</th>\n",
       "      <td>{'normalize': True}</td>\n",
       "    </tr>\n",
       "    <tr>\n",
       "      <th>Params Tried</th>\n",
       "      <td>{'normalize': [True, False]}</td>\n",
       "    </tr>\n",
       "    <tr>\n",
       "      <th>Notes</th>\n",
       "      <td></td>\n",
       "    </tr>\n",
       "  </tbody>\n",
       "</table>\n",
       "</div>"
      ],
      "text/plain": [
       "                                Linear Reg\n",
       "Best Params            {'normalize': True}\n",
       "Params Tried  {'normalize': [True, False]}\n",
       "Notes                                     "
      ]
     },
     "metadata": {},
     "output_type": "display_data"
    },
    {
     "name": "stdout",
     "output_type": "stream",
     "text": [
      "Runtime:  0.064  minutes\n"
     ]
    },
    {
     "data": {
      "image/png": "[encoded data removed]",
      "text/plain": [
       "<Figure size 576x432 with 1 Axes>"
      ]
     },
     "metadata": {
      "needs_background": "light"
     },
     "output_type": "display_data"
    }
   ],
   "source": [
    "# set parameters\n",
    "lr_params = {\n",
    "            'normalize': [True, False]\n",
    "}\n",
    "\n",
    "lr_notes = ''\n",
    "\n",
    "# call the fit_model function\n",
    "all_results, lr_best_model, lr_preds = fit_model(LinearRegression(), \n",
    "                                                 'Linear Reg', \n",
    "                                                 lr_params, \n",
    "                                                 all_results, \n",
    "                                                 lr_notes,\n",
    "                                                )"
   ]
  },
  {
   "cell_type": "markdown",
   "metadata": {},
   "source": [
    "### Random Forest"
   ]
  },
  {
   "cell_type": "code",
   "execution_count": 22,
   "metadata": {},
   "outputs": [
    {
     "data": {
      "text/html": [
       "<div>\n",
       "<style scoped>\n",
       "    .dataframe tbody tr th:only-of-type {\n",
       "        vertical-align: middle;\n",
       "    }\n",
       "\n",
       "    .dataframe tbody tr th {\n",
       "        vertical-align: top;\n",
       "    }\n",
       "\n",
       "    .dataframe thead th {\n",
       "        text-align: right;\n",
       "    }\n",
       "</style>\n",
       "<table border=\"1\" class=\"dataframe\">\n",
       "  <thead>\n",
       "    <tr style=\"text-align: right;\">\n",
       "      <th></th>\n",
       "      <th>Random Forest</th>\n",
       "    </tr>\n",
       "  </thead>\n",
       "  <tbody>\n",
       "    <tr>\n",
       "      <th>Holdout score</th>\n",
       "      <td>0.875</td>\n",
       "    </tr>\n",
       "    <tr>\n",
       "      <th>Train score</th>\n",
       "      <td>0.869</td>\n",
       "    </tr>\n",
       "    <tr>\n",
       "      <th>Holdout RMSE</th>\n",
       "      <td>28011.1</td>\n",
       "    </tr>\n",
       "  </tbody>\n",
       "</table>\n",
       "</div>"
      ],
      "text/plain": [
       "              Random Forest\n",
       "Holdout score         0.875\n",
       "Train score           0.869\n",
       "Holdout RMSE        28011.1"
      ]
     },
     "metadata": {},
     "output_type": "display_data"
    },
    {
     "data": {
      "text/html": [
       "<div>\n",
       "<style scoped>\n",
       "    .dataframe tbody tr th:only-of-type {\n",
       "        vertical-align: middle;\n",
       "    }\n",
       "\n",
       "    .dataframe tbody tr th {\n",
       "        vertical-align: top;\n",
       "    }\n",
       "\n",
       "    .dataframe thead th {\n",
       "        text-align: right;\n",
       "    }\n",
       "</style>\n",
       "<table border=\"1\" class=\"dataframe\">\n",
       "  <thead>\n",
       "    <tr style=\"text-align: right;\">\n",
       "      <th></th>\n",
       "      <th>Random Forest</th>\n",
       "    </tr>\n",
       "  </thead>\n",
       "  <tbody>\n",
       "    <tr>\n",
       "      <th>Best Params</th>\n",
       "      <td>{'bootstrap': True, 'max_depth': None, 'max_features': 'auto', 'max_leaf_nodes': None, 'min_samples_leaf': 2, 'min_samples_split': 7, 'n_estimators': 100}</td>\n",
       "    </tr>\n",
       "    <tr>\n",
       "      <th>Params Tried</th>\n",
       "      <td>{'n_estimators': [100], 'min_samples_split': [7], 'min_samples_leaf': [2], 'bootstrap': [True], 'max_depth': [None], 'max_leaf_nodes': [None], 'max_features': ['auto']}</td>\n",
       "    </tr>\n",
       "    <tr>\n",
       "      <th>Notes</th>\n",
       "      <td>Picked min_samples_leaf=1, bootstrap=True, n_estimators=100, min_samples_leaf=2</td>\n",
       "    </tr>\n",
       "  </tbody>\n",
       "</table>\n",
       "</div>"
      ],
      "text/plain": [
       "                                                                                                                                                                         Random Forest\n",
       "Best Params                 {'bootstrap': True, 'max_depth': None, 'max_features': 'auto', 'max_leaf_nodes': None, 'min_samples_leaf': 2, 'min_samples_split': 7, 'n_estimators': 100}\n",
       "Params Tried  {'n_estimators': [100], 'min_samples_split': [7], 'min_samples_leaf': [2], 'bootstrap': [True], 'max_depth': [None], 'max_leaf_nodes': [None], 'max_features': ['auto']}\n",
       "Notes                                                                                                  Picked min_samples_leaf=1, bootstrap=True, n_estimators=100, min_samples_leaf=2"
      ]
     },
     "metadata": {},
     "output_type": "display_data"
    },
    {
     "name": "stdout",
     "output_type": "stream",
     "text": [
      "Runtime:  0.1  minutes\n"
     ]
    },
    {
     "data": {
      "text/plain": [
       "<matplotlib.axes._subplots.AxesSubplot at 0x1a18481e48>"
      ]
     },
     "execution_count": 22,
     "metadata": {},
     "output_type": "execute_result"
    },
    {
     "data": {
      "image/png": "[encoded data removed]",
      "text/plain": [
       "<Figure size 576x432 with 1 Axes>"
      ]
     },
     "metadata": {
      "needs_background": "light"
     },
     "output_type": "display_data"
    },
    {
     "data": {
      "image/png": "[encoded data removed]",
      "text/plain": [
       "<Figure size 432x288 with 1 Axes>"
      ]
     },
     "metadata": {
      "needs_background": "light"
     },
     "output_type": "display_data"
    }
   ],
   "source": [
    "# set parameters\n",
    "rf_params = {\n",
    "            'n_estimators': [100],\n",
    "            'min_samples_split': [7],\n",
    "            'min_samples_leaf': [2],\n",
    "            'bootstrap': [True],\n",
    "            'max_depth':[None],\n",
    "            'max_leaf_nodes': [None],\n",
    "            'max_features': ['auto'], # max_feat_to_check\n",
    "}\n",
    "\n",
    "rf_notes = 'Picked min_samples_leaf=1, bootstrap=True, n_estimators=100, min_samples_leaf=2'\n",
    "\n",
    "# call the fit_model function\n",
    "all_results, rf_best_model, rf_preds = fit_model(RandomForestRegressor(), \n",
    "                                                 'Random Forest', \n",
    "                                                 rf_params, \n",
    "                                                 all_results, \n",
    "                                                 rf_notes,\n",
    "                                                )\n",
    "\n",
    "# Top features\n",
    "feat_importance = pd.DataFrame(rf_best_model.feature_importances_).sort_values(by=0, ascending=False) #index=pca_train.columns\n",
    "feat_importance.head(10).plot(kind='barh')"
   ]
  },
  {
   "cell_type": "code",
   "execution_count": 23,
   "metadata": {},
   "outputs": [
    {
     "data": {
      "text/html": [
       "<div>\n",
       "<style scoped>\n",
       "    .dataframe tbody tr th:only-of-type {\n",
       "        vertical-align: middle;\n",
       "    }\n",
       "\n",
       "    .dataframe tbody tr th {\n",
       "        vertical-align: top;\n",
       "    }\n",
       "\n",
       "    .dataframe thead th {\n",
       "        text-align: right;\n",
       "    }\n",
       "</style>\n",
       "<table border=\"1\" class=\"dataframe\">\n",
       "  <thead>\n",
       "    <tr style=\"text-align: right;\">\n",
       "      <th></th>\n",
       "      <th>SVM</th>\n",
       "    </tr>\n",
       "  </thead>\n",
       "  <tbody>\n",
       "    <tr>\n",
       "      <th>Holdout score</th>\n",
       "      <td>0.76</td>\n",
       "    </tr>\n",
       "    <tr>\n",
       "      <th>Train score</th>\n",
       "      <td>0.713</td>\n",
       "    </tr>\n",
       "    <tr>\n",
       "      <th>Holdout RMSE</th>\n",
       "      <td>38758.3</td>\n",
       "    </tr>\n",
       "  </tbody>\n",
       "</table>\n",
       "</div>"
      ],
      "text/plain": [
       "                   SVM\n",
       "Holdout score     0.76\n",
       "Train score      0.713\n",
       "Holdout RMSE   38758.3"
      ]
     },
     "metadata": {},
     "output_type": "display_data"
    },
    {
     "data": {
      "text/html": [
       "<div>\n",
       "<style scoped>\n",
       "    .dataframe tbody tr th:only-of-type {\n",
       "        vertical-align: middle;\n",
       "    }\n",
       "\n",
       "    .dataframe tbody tr th {\n",
       "        vertical-align: top;\n",
       "    }\n",
       "\n",
       "    .dataframe thead th {\n",
       "        text-align: right;\n",
       "    }\n",
       "</style>\n",
       "<table border=\"1\" class=\"dataframe\">\n",
       "  <thead>\n",
       "    <tr style=\"text-align: right;\">\n",
       "      <th></th>\n",
       "      <th>SVM</th>\n",
       "    </tr>\n",
       "  </thead>\n",
       "  <tbody>\n",
       "    <tr>\n",
       "      <th>Best Params</th>\n",
       "      <td>{'C': 10, 'kernel': 'linear'}</td>\n",
       "    </tr>\n",
       "    <tr>\n",
       "      <th>Params Tried</th>\n",
       "      <td>{'kernel': ['linear', 'poly', 'rbf', 'sigmoid'], 'C': [0.5, 1, 3, 4, 5, 10]}</td>\n",
       "    </tr>\n",
       "    <tr>\n",
       "      <th>Notes</th>\n",
       "      <td></td>\n",
       "    </tr>\n",
       "  </tbody>\n",
       "</table>\n",
       "</div>"
      ],
      "text/plain": [
       "                                                                                       SVM\n",
       "Best Params                                                  {'C': 10, 'kernel': 'linear'}\n",
       "Params Tried  {'kernel': ['linear', 'poly', 'rbf', 'sigmoid'], 'C': [0.5, 1, 3, 4, 5, 10]}\n",
       "Notes                                                                                     "
      ]
     },
     "metadata": {},
     "output_type": "display_data"
    },
    {
     "name": "stdout",
     "output_type": "stream",
     "text": [
      "Runtime:  0.094  minutes\n"
     ]
    },
    {
     "data": {
      "image/png": "[encoded data removed]",
      "text/plain": [
       "<Figure size 576x432 with 1 Axes>"
      ]
     },
     "metadata": {
      "needs_background": "light"
     },
     "output_type": "display_data"
    }
   ],
   "source": [
    "# set parameters\n",
    "svm_params = {\n",
    "    'kernel' : ['linear', 'poly', 'rbf', 'sigmoid'], # 'precomputed'\n",
    "    'C' : [.5, 1, 3, 4, 5, 10]\n",
    "}\n",
    "\n",
    "svm_notes = ''\n",
    "\n",
    "# call the fit_model function\n",
    "all_results, svm_best_model, svm_preds = fit_model(svm.SVR(), 'SVM', svm_params, all_results, svm_notes,\n",
    "                                                  )\n"
   ]
  },
  {
   "cell_type": "code",
   "execution_count": 24,
   "metadata": {},
   "outputs": [
    {
     "data": {
      "text/html": [
       "<div>\n",
       "<style scoped>\n",
       "    .dataframe tbody tr th:only-of-type {\n",
       "        vertical-align: middle;\n",
       "    }\n",
       "\n",
       "    .dataframe tbody tr th {\n",
       "        vertical-align: top;\n",
       "    }\n",
       "\n",
       "    .dataframe thead th {\n",
       "        text-align: right;\n",
       "    }\n",
       "</style>\n",
       "<table border=\"1\" class=\"dataframe\">\n",
       "  <thead>\n",
       "    <tr style=\"text-align: right;\">\n",
       "      <th></th>\n",
       "      <th>KNN</th>\n",
       "    </tr>\n",
       "  </thead>\n",
       "  <tbody>\n",
       "    <tr>\n",
       "      <th>Holdout score</th>\n",
       "      <td>0.84</td>\n",
       "    </tr>\n",
       "    <tr>\n",
       "      <th>Train score</th>\n",
       "      <td>0.825</td>\n",
       "    </tr>\n",
       "    <tr>\n",
       "      <th>Holdout RMSE</th>\n",
       "      <td>31684.8</td>\n",
       "    </tr>\n",
       "  </tbody>\n",
       "</table>\n",
       "</div>"
      ],
      "text/plain": [
       "                   KNN\n",
       "Holdout score     0.84\n",
       "Train score      0.825\n",
       "Holdout RMSE   31684.8"
      ]
     },
     "metadata": {},
     "output_type": "display_data"
    },
    {
     "data": {
      "text/html": [
       "<div>\n",
       "<style scoped>\n",
       "    .dataframe tbody tr th:only-of-type {\n",
       "        vertical-align: middle;\n",
       "    }\n",
       "\n",
       "    .dataframe tbody tr th {\n",
       "        vertical-align: top;\n",
       "    }\n",
       "\n",
       "    .dataframe thead th {\n",
       "        text-align: right;\n",
       "    }\n",
       "</style>\n",
       "<table border=\"1\" class=\"dataframe\">\n",
       "  <thead>\n",
       "    <tr style=\"text-align: right;\">\n",
       "      <th></th>\n",
       "      <th>KNN</th>\n",
       "    </tr>\n",
       "  </thead>\n",
       "  <tbody>\n",
       "    <tr>\n",
       "      <th>Best Params</th>\n",
       "      <td>{'metric': 'minkowski', 'n_neighbors': 10, 'p': 2, 'weights': 'distance'}</td>\n",
       "    </tr>\n",
       "    <tr>\n",
       "      <th>Params Tried</th>\n",
       "      <td>{'n_neighbors': [3, 4, 5, 7, 10, 15], 'weights': ['distance'], 'metric': ['minkowski'], 'p': [1, 2, 3]}</td>\n",
       "    </tr>\n",
       "    <tr>\n",
       "      <th>Notes</th>\n",
       "      <td></td>\n",
       "    </tr>\n",
       "  </tbody>\n",
       "</table>\n",
       "</div>"
      ],
      "text/plain": [
       "                                                                                                                  KNN\n",
       "Best Params                                 {'metric': 'minkowski', 'n_neighbors': 10, 'p': 2, 'weights': 'distance'}\n",
       "Params Tried  {'n_neighbors': [3, 4, 5, 7, 10, 15], 'weights': ['distance'], 'metric': ['minkowski'], 'p': [1, 2, 3]}\n",
       "Notes                                                                                                                "
      ]
     },
     "metadata": {},
     "output_type": "display_data"
    },
    {
     "name": "stdout",
     "output_type": "stream",
     "text": [
      "Runtime:  0.301  minutes\n"
     ]
    },
    {
     "data": {
      "image/png": "[encoded data removed]",
      "text/plain": [
       "<Figure size 576x432 with 1 Axes>"
      ]
     },
     "metadata": {
      "needs_background": "light"
     },
     "output_type": "display_data"
    }
   ],
   "source": [
    "# set parameters\n",
    "knn_params = {\n",
    "    'n_neighbors': [3, 4, 5, 7, 10, 15],\n",
    "    'weights': ['distance'], # uniform\n",
    "    'metric': ['minkowski'],\n",
    "    'p': [1, 2, 3] # p = 1 and 2 correspondes to Manhattan and Euclidean distance metrics repsectively\n",
    "}\n",
    "\n",
    "knn_notes = ''\n",
    "\n",
    "# call the fit_model function\n",
    "all_results, knn_best_model, knn_preds = fit_model(KNeighborsRegressor(), 'KNN',\n",
    "                                                   knn_params, all_results, knn_notes,\n",
    "                                                  )\n"
   ]
  },
  {
   "cell_type": "code",
   "execution_count": 25,
   "metadata": {},
   "outputs": [
    {
     "data": {
      "text/html": [
       "<div>\n",
       "<style scoped>\n",
       "    .dataframe tbody tr th:only-of-type {\n",
       "        vertical-align: middle;\n",
       "    }\n",
       "\n",
       "    .dataframe tbody tr th {\n",
       "        vertical-align: top;\n",
       "    }\n",
       "\n",
       "    .dataframe thead th {\n",
       "        text-align: right;\n",
       "    }\n",
       "</style>\n",
       "<table border=\"1\" class=\"dataframe\">\n",
       "  <thead>\n",
       "    <tr style=\"text-align: right;\">\n",
       "      <th></th>\n",
       "      <th>Grad. Boost</th>\n",
       "    </tr>\n",
       "  </thead>\n",
       "  <tbody>\n",
       "    <tr>\n",
       "      <th>Holdout score</th>\n",
       "      <td>0.822</td>\n",
       "    </tr>\n",
       "    <tr>\n",
       "      <th>Train score</th>\n",
       "      <td>0.826</td>\n",
       "    </tr>\n",
       "    <tr>\n",
       "      <th>Holdout RMSE</th>\n",
       "      <td>33434.3</td>\n",
       "    </tr>\n",
       "  </tbody>\n",
       "</table>\n",
       "</div>"
      ],
      "text/plain": [
       "              Grad. Boost\n",
       "Holdout score       0.822\n",
       "Train score         0.826\n",
       "Holdout RMSE      33434.3"
      ]
     },
     "metadata": {},
     "output_type": "display_data"
    },
    {
     "data": {
      "text/html": [
       "<div>\n",
       "<style scoped>\n",
       "    .dataframe tbody tr th:only-of-type {\n",
       "        vertical-align: middle;\n",
       "    }\n",
       "\n",
       "    .dataframe tbody tr th {\n",
       "        vertical-align: top;\n",
       "    }\n",
       "\n",
       "    .dataframe thead th {\n",
       "        text-align: right;\n",
       "    }\n",
       "</style>\n",
       "<table border=\"1\" class=\"dataframe\">\n",
       "  <thead>\n",
       "    <tr style=\"text-align: right;\">\n",
       "      <th></th>\n",
       "      <th>Grad. Boost</th>\n",
       "    </tr>\n",
       "  </thead>\n",
       "  <tbody>\n",
       "    <tr>\n",
       "      <th>Best Params</th>\n",
       "      <td>{'learning_rate': 0.1, 'max_depth': None, 'max_features': 'auto', 'max_leaf_nodes': None, 'min_samples_leaf': 2, 'min_samples_split': 2, 'n_estimators': 140}</td>\n",
       "    </tr>\n",
       "    <tr>\n",
       "      <th>Params Tried</th>\n",
       "      <td>{'learning_rate': [0.1], 'n_estimators': [110, 125, 140], 'min_samples_split': [2], 'min_samples_leaf': [2], 'max_depth': [None], 'max_leaf_nodes': [None], 'max_features': ['auto']}</td>\n",
       "    </tr>\n",
       "    <tr>\n",
       "      <th>Notes</th>\n",
       "      <td></td>\n",
       "    </tr>\n",
       "  </tbody>\n",
       "</table>\n",
       "</div>"
      ],
      "text/plain": [
       "                                                                                                                                                                                        Grad. Boost\n",
       "Best Params                           {'learning_rate': 0.1, 'max_depth': None, 'max_features': 'auto', 'max_leaf_nodes': None, 'min_samples_leaf': 2, 'min_samples_split': 2, 'n_estimators': 140}\n",
       "Params Tried  {'learning_rate': [0.1], 'n_estimators': [110, 125, 140], 'min_samples_split': [2], 'min_samples_leaf': [2], 'max_depth': [None], 'max_leaf_nodes': [None], 'max_features': ['auto']}\n",
       "Notes                                                                                                                                                                                              "
      ]
     },
     "metadata": {},
     "output_type": "display_data"
    },
    {
     "name": "stdout",
     "output_type": "stream",
     "text": [
      "Runtime:  0.471  minutes\n"
     ]
    },
    {
     "data": {
      "text/plain": [
       "<matplotlib.axes._subplots.AxesSubplot at 0x1a2567bc88>"
      ]
     },
     "execution_count": 25,
     "metadata": {},
     "output_type": "execute_result"
    },
    {
     "data": {
      "image/png": "[encoded data removed]",
      "text/plain": [
       "<Figure size 576x432 with 1 Axes>"
      ]
     },
     "metadata": {
      "needs_background": "light"
     },
     "output_type": "display_data"
    },
    {
     "data": {
      "image/png": "[encoded data removed]",
      "text/plain": [
       "<Figure size 432x288 with 1 Axes>"
      ]
     },
     "metadata": {
      "needs_background": "light"
     },
     "output_type": "display_data"
    }
   ],
   "source": [
    "# set parameters\n",
    "gb_params = {\n",
    "            'learning_rate' : [0.1],\n",
    "            'n_estimators': [110, 125, 140],\n",
    "            'min_samples_split': [2],\n",
    "            'min_samples_leaf': [2],\n",
    "            'max_depth':[None],\n",
    "            'max_leaf_nodes': [None],\n",
    "            'max_features': ['auto'], # max_feat_to_check\n",
    "}\n",
    "\n",
    "gb_notes = ''\n",
    "\n",
    "# call the fit_model function\n",
    "all_results, gb_best_model, gb_preds = fit_model(GradientBoostingRegressor(), \n",
    "                                                 'Grad. Boost', \n",
    "                                                 gb_params, \n",
    "                                                 all_results, \n",
    "                                                 gb_notes,\n",
    "                                                )\n",
    "\n",
    "# Top features\n",
    "feat_importance = pd.DataFrame(gb_best_model.feature_importances_).sort_values(by=0, ascending=False)\n",
    "feat_importance.head(10).plot(kind='barh')"
   ]
  },
  {
   "cell_type": "markdown",
   "metadata": {},
   "source": [
    "# Overall Results:"
   ]
  },
  {
   "cell_type": "code",
   "execution_count": 26,
   "metadata": {},
   "outputs": [
    {
     "data": {
      "text/html": [
       "<div>\n",
       "<style scoped>\n",
       "    .dataframe tbody tr th:only-of-type {\n",
       "        vertical-align: middle;\n",
       "    }\n",
       "\n",
       "    .dataframe tbody tr th {\n",
       "        vertical-align: top;\n",
       "    }\n",
       "\n",
       "    .dataframe thead th {\n",
       "        text-align: right;\n",
       "    }\n",
       "</style>\n",
       "<table border=\"1\" class=\"dataframe\">\n",
       "  <thead>\n",
       "    <tr style=\"text-align: right;\">\n",
       "      <th></th>\n",
       "      <th>Linear Reg</th>\n",
       "      <th>Random Forest</th>\n",
       "      <th>SVM</th>\n",
       "      <th>KNN</th>\n",
       "      <th>Grad. Boost</th>\n",
       "    </tr>\n",
       "  </thead>\n",
       "  <tbody>\n",
       "    <tr>\n",
       "      <th>Holdout score</th>\n",
       "      <td>0.84</td>\n",
       "      <td>0.875</td>\n",
       "      <td>0.76</td>\n",
       "      <td>0.84</td>\n",
       "      <td>0.822</td>\n",
       "    </tr>\n",
       "    <tr>\n",
       "      <th>Train score</th>\n",
       "      <td>0.779</td>\n",
       "      <td>0.869</td>\n",
       "      <td>0.713</td>\n",
       "      <td>0.825</td>\n",
       "      <td>0.826</td>\n",
       "    </tr>\n",
       "    <tr>\n",
       "      <th>Holdout RMSE</th>\n",
       "      <td>31693.9</td>\n",
       "      <td>28011.1</td>\n",
       "      <td>38758.3</td>\n",
       "      <td>31684.8</td>\n",
       "      <td>33434.3</td>\n",
       "    </tr>\n",
       "  </tbody>\n",
       "</table>\n",
       "</div>"
      ],
      "text/plain": [
       "              Linear Reg Random Forest      SVM      KNN Grad. Boost\n",
       "Holdout score       0.84         0.875     0.76     0.84       0.822\n",
       "Train score        0.779         0.869    0.713    0.825       0.826\n",
       "Holdout RMSE     31693.9       28011.1  38758.3  31684.8     33434.3"
      ]
     },
     "metadata": {},
     "output_type": "display_data"
    },
    {
     "data": {
      "text/html": [
       "<div>\n",
       "<style scoped>\n",
       "    .dataframe tbody tr th:only-of-type {\n",
       "        vertical-align: middle;\n",
       "    }\n",
       "\n",
       "    .dataframe tbody tr th {\n",
       "        vertical-align: top;\n",
       "    }\n",
       "\n",
       "    .dataframe thead th {\n",
       "        text-align: right;\n",
       "    }\n",
       "</style>\n",
       "<table border=\"1\" class=\"dataframe\">\n",
       "  <thead>\n",
       "    <tr style=\"text-align: right;\">\n",
       "      <th></th>\n",
       "      <th>Linear Reg</th>\n",
       "      <th>Random Forest</th>\n",
       "      <th>SVM</th>\n",
       "      <th>KNN</th>\n",
       "      <th>Grad. Boost</th>\n",
       "    </tr>\n",
       "  </thead>\n",
       "  <tbody>\n",
       "    <tr>\n",
       "      <th>Best Params</th>\n",
       "      <td>{'normalize': True}</td>\n",
       "      <td>{'bootstrap': True, 'max_depth': None, 'max_features': 'auto', 'max_leaf_nodes': None, 'min_samples_leaf': 2, 'min_samples_split': 7, 'n_estimators': 100}</td>\n",
       "      <td>{'C': 10, 'kernel': 'linear'}</td>\n",
       "      <td>{'metric': 'minkowski', 'n_neighbors': 10, 'p': 2, 'weights': 'distance'}</td>\n",
       "      <td>{'learning_rate': 0.1, 'max_depth': None, 'max_features': 'auto', 'max_leaf_nodes': None, 'min_samples_leaf': 2, 'min_samples_split': 2, 'n_estimators': 140}</td>\n",
       "    </tr>\n",
       "    <tr>\n",
       "      <th>Params Tried</th>\n",
       "      <td>{'normalize': [True, False]}</td>\n",
       "      <td>{'n_estimators': [100], 'min_samples_split': [7], 'min_samples_leaf': [2], 'bootstrap': [True], 'max_depth': [None], 'max_leaf_nodes': [None], 'max_features': ['auto']}</td>\n",
       "      <td>{'kernel': ['linear', 'poly', 'rbf', 'sigmoid'], 'C': [0.5, 1, 3, 4, 5, 10]}</td>\n",
       "      <td>{'n_neighbors': [3, 4, 5, 7, 10, 15], 'weights': ['distance'], 'metric': ['minkowski'], 'p': [1, 2, 3]}</td>\n",
       "      <td>{'learning_rate': [0.1], 'n_estimators': [110, 125, 140], 'min_samples_split': [2], 'min_samples_leaf': [2], 'max_depth': [None], 'max_leaf_nodes': [None], 'max_features': ['auto']}</td>\n",
       "    </tr>\n",
       "    <tr>\n",
       "      <th>Notes</th>\n",
       "      <td></td>\n",
       "      <td>Picked min_samples_leaf=1, bootstrap=True, n_estimators=100, min_samples_leaf=2</td>\n",
       "      <td></td>\n",
       "      <td></td>\n",
       "      <td></td>\n",
       "    </tr>\n",
       "  </tbody>\n",
       "</table>\n",
       "</div>"
      ],
      "text/plain": [
       "                                Linear Reg  \\\n",
       "Best Params            {'normalize': True}   \n",
       "Params Tried  {'normalize': [True, False]}   \n",
       "Notes                                        \n",
       "\n",
       "                                                                                                                                                                         Random Forest  \\\n",
       "Best Params                 {'bootstrap': True, 'max_depth': None, 'max_features': 'auto', 'max_leaf_nodes': None, 'min_samples_leaf': 2, 'min_samples_split': 7, 'n_estimators': 100}   \n",
       "Params Tried  {'n_estimators': [100], 'min_samples_split': [7], 'min_samples_leaf': [2], 'bootstrap': [True], 'max_depth': [None], 'max_leaf_nodes': [None], 'max_features': ['auto']}   \n",
       "Notes                                                                                                  Picked min_samples_leaf=1, bootstrap=True, n_estimators=100, min_samples_leaf=2   \n",
       "\n",
       "                                                                                       SVM  \\\n",
       "Best Params                                                  {'C': 10, 'kernel': 'linear'}   \n",
       "Params Tried  {'kernel': ['linear', 'poly', 'rbf', 'sigmoid'], 'C': [0.5, 1, 3, 4, 5, 10]}   \n",
       "Notes                                                                                        \n",
       "\n",
       "                                                                                                                  KNN  \\\n",
       "Best Params                                 {'metric': 'minkowski', 'n_neighbors': 10, 'p': 2, 'weights': 'distance'}   \n",
       "Params Tried  {'n_neighbors': [3, 4, 5, 7, 10, 15], 'weights': ['distance'], 'metric': ['minkowski'], 'p': [1, 2, 3]}   \n",
       "Notes                                                                                                                   \n",
       "\n",
       "                                                                                                                                                                                        Grad. Boost  \n",
       "Best Params                           {'learning_rate': 0.1, 'max_depth': None, 'max_features': 'auto', 'max_leaf_nodes': None, 'min_samples_leaf': 2, 'min_samples_split': 2, 'n_estimators': 140}  \n",
       "Params Tried  {'learning_rate': [0.1], 'n_estimators': [110, 125, 140], 'min_samples_split': [2], 'min_samples_leaf': [2], 'max_depth': [None], 'max_leaf_nodes': [None], 'max_features': ['auto']}  \n",
       "Notes                                                                                                                                                                                                "
      ]
     },
     "metadata": {},
     "output_type": "display_data"
    }
   ],
   "source": [
    "display(all_results.head(3))\n",
    "display(all_results.tail(3))"
   ]
  },
  {
   "cell_type": "markdown",
   "metadata": {},
   "source": [
    "# Make Predictions:"
   ]
  },
  {
   "cell_type": "code",
   "execution_count": 104,
   "metadata": {},
   "outputs": [],
   "source": [
    "# test['SalePrice'] = rf_best_model.predict(pca_test) #test_scaled_df\n",
    "# test[['Id', 'SalePrice']].sort_values(by='Id').to_csv('submissions.csv',index=False)"
   ]
  },
  {
   "cell_type": "markdown",
   "metadata": {},
   "source": [
    "## Kaggle Submission Links:"
   ]
  },
  {
   "cell_type": "markdown",
   "metadata": {},
   "source": [
    "Class Leaderboard: <br>\n",
    "https://www.kaggle.com/c/dsi-us-5-project-2-regression-challenge <br>\n",
    "<br>\n",
    "General Kaggle Challenge: (used different data) <br>\n",
    "https://www.kaggle.com/c/house-prices-advanced-regression-techniques/leaderboard"
   ]
  }
 ],
 "metadata": {
  "kernelspec": {
   "display_name": "Python 3",
   "language": "python",
   "name": "python3"
  },
  "language_info": {
   "codemirror_mode": {
    "name": "ipython",
    "version": 3
   },
   "file_extension": ".py",
   "mimetype": "text/x-python",
   "name": "python",
   "nbconvert_exporter": "python",
   "pygments_lexer": "ipython3",
   "version": "3.6.7"
  }
 },
 "nbformat": 4,
 "nbformat_minor": 2
}
