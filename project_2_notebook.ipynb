{
 "cells": [
  {
   "cell_type": "markdown",
   "metadata": {},
   "source": [
    "Zach Green, Project 2"
   ]
  },
  {
   "cell_type": "markdown",
   "metadata": {},
   "source": [
    "### Imports:"
   ]
  },
  {
   "cell_type": "code",
   "execution_count": 1,
   "metadata": {},
   "outputs": [],
   "source": [
    "import pandas as pd\n",
    "import numpy as np\n",
    "import matplotlib.pyplot as plt\n",
    "import seaborn as sns\n",
    "import time\n",
    "\n",
    "from sklearn.preprocessing import PolynomialFeatures\n",
    "from sklearn.model_selection import train_test_split, KFold, cross_val_score, GridSearchCV\n",
    "from sklearn.linear_model import Ridge, LinearRegression, RidgeCV, LassoCV, ElasticNetCV, Lasso, ElasticNet\n",
    "from sklearn.metrics import r2_score\n",
    "from sklearn.preprocessing import StandardScaler\n",
    "from sklearn.feature_selection import f_regression, SelectKBest, RFE, RFECV\n",
    "\n",
    "from sklearn.ensemble import RandomForestRegressor, AdaBoostRegressor, GradientBoostingRegressor, ExtraTreesRegressor\n",
    "from sklearn.neighbors import KNeighborsRegressor\n",
    "# from sklearn.naive_bayes import GaussianNB, MultinomialNB\n",
    "from sklearn import svm\n",
    "\n",
    "from itertools import combinations\n",
    "\n",
    "%matplotlib inline"
   ]
  },
  {
   "cell_type": "code",
   "execution_count": 2,
   "metadata": {},
   "outputs": [],
   "source": [
    "train = pd.read_csv('train.csv')\n",
    "test = pd.read_csv('test.csv')"
   ]
  },
  {
   "cell_type": "markdown",
   "metadata": {},
   "source": [
    "# Data Cleaning"
   ]
  },
  {
   "cell_type": "code",
   "execution_count": 3,
   "metadata": {},
   "outputs": [],
   "source": [
    "# Columns I'm dropping becaus they contain the same value for more than about 90% of the data\n",
    "initial_drop_list = ['Id', 'PID', 'Alley', 'Street', 'Land Contour', 'Utilities', 'Mas Vnr Area',\n",
    "                    'Land Slope', 'Condition 2', 'Roof Matl', 'Electrical', 'Functional', 'Paved Drive',\n",
    "                    'Fence', 'Misc Feature', 'Misc Val', 'Sale Type', 'Garage Cond', 'Garage Qual', 'Kitchen AbvGr',\n",
    "                    'Pool QC', 'Pool Area', 'Low Qual Fin SF', 'Screen Porch', '3Ssn Porch', 'Enclosed Porch',\n",
    "                    'Open Porch SF', 'Wood Deck SF', 'Garage Yr Blt', '2nd Flr SF', 'Central Air',\n",
    "                    'Heating', 'BsmtFin SF 2', 'BsmtFin Type 2', 'Bsmt Cond', 'Fireplace Qu']\n",
    "\n",
    "# Things I'm dropping to reduce multicollinearity with predictors I think are more important\n",
    "also_drop = ['Mas Vnr Type', 'Bsmt Exposure', 'Garage Area', 'Exterior 1st', 'Exterior 2nd', 'BsmtFin SF 1',\n",
    "             'Bsmt Unf SF', 'Total Bsmt SF', 'BsmtFin Type 1']\n",
    "\n",
    "# Add the two lists together\n",
    "initial_drop_list = initial_drop_list + also_drop\n",
    "\n",
    "# Make a new df by dropping all these columns\n",
    "df = train.drop(initial_drop_list, axis = 1)\n",
    "test_df = test.drop(initial_drop_list, axis = 1)\n",
    "\n",
    "# also drop 'SalePrice' because it is the target\n",
    "df.drop('SalePrice', axis = 1, inplace =True)"
   ]
  },
  {
   "cell_type": "code",
   "execution_count": 4,
   "metadata": {},
   "outputs": [],
   "source": [
    "# Next stage of cleaning: getting rid of Nans\n",
    "\n",
    "# After looking at the Nan observations, these Nan values are actually supposed to be 0 or 'None'\n",
    "nan_0_cols = ['Lot Frontage', 'Bsmt Full Bath', 'Bsmt Half Bath', 'Garage Cars']\n",
    "\n",
    "nan_none_cols = ['Bsmt Qual', 'Garage Type', 'Garage Finish']\n",
    "\n",
    "df[nan_0_cols] = df[nan_0_cols].fillna(value = 0)\n",
    "test_df[nan_0_cols] = test_df[nan_0_cols].fillna(value = 0)\n",
    "\n",
    "df[nan_none_cols] = df[nan_none_cols].fillna(value = 'None')\n",
    "test_df[nan_none_cols] = test_df[nan_none_cols].fillna(value = 'None')"
   ]
  },
  {
   "cell_type": "markdown",
   "metadata": {},
   "source": [
    "# Transformations"
   ]
  },
  {
   "cell_type": "markdown",
   "metadata": {},
   "source": [
    "#### Calculate Age:"
   ]
  },
  {
   "cell_type": "code",
   "execution_count": 5,
   "metadata": {},
   "outputs": [],
   "source": [
    "# Calculate age of building and drop 'Year Built'\n",
    "df['Age'] = df['Yr Sold'] - df['Year Built']\n",
    "df.drop(columns=['Year Built'], axis = 1, inplace=True)\n",
    "\n",
    "test_df['Age'] = test_df['Yr Sold'] - test_df['Year Built']\n",
    "test_df.drop(columns=['Year Built'], axis = 1, inplace=True)"
   ]
  },
  {
   "cell_type": "markdown",
   "metadata": {},
   "source": [
    "#### Total Baths:"
   ]
  },
  {
   "cell_type": "code",
   "execution_count": 6,
   "metadata": {},
   "outputs": [],
   "source": [
    "# Calculate total baths and drop the columns its derived from\n",
    "df['Total Baths'] = df['Full Bath'] + df['Half Bath']/2 + df['Bsmt Full Bath'] + df['Bsmt Half Bath']/2\n",
    "df.drop(columns=['Half Bath', 'Full Bath', 'Bsmt Half Bath', 'Bsmt Full Bath'], axis = 1, inplace=True)\n",
    "\n",
    "test_df['Total Baths'] = test_df['Full Bath'] + test_df['Half Bath']/2 + test_df['Bsmt Full Bath'] + test_df['Bsmt Half Bath']/2\n",
    "test_df.drop(columns=['Half Bath', 'Full Bath', 'Bsmt Half Bath', 'Bsmt Full Bath'], axis = 1, inplace=True)"
   ]
  },
  {
   "cell_type": "code",
   "execution_count": 7,
   "metadata": {},
   "outputs": [],
   "source": [
    "# Calculate number of months since start of first sale year\n",
    "df['Mo Sold After 1/1/2006'] = (df['Yr Sold'] - 2006) * 12 + df['Mo Sold']\n",
    "df.drop(columns=['Mo Sold'], axis = 1, inplace=True)\n",
    "\n",
    "test_df['Mo Sold After 1/1/2006'] = (test_df['Yr Sold'] - 2006) * 12 + test_df['Mo Sold']\n",
    "test_df.drop(columns=['Mo Sold'], axis = 1, inplace=True)"
   ]
  },
  {
   "cell_type": "code",
   "execution_count": 8,
   "metadata": {},
   "outputs": [],
   "source": [
    "# change remodel year to years since remodel, the data will show age built if there was no remodel\n",
    "df['Yrs since Remodel'] = df['Yr Sold'] - df['Year Remod/Add']\n",
    "df.drop(columns=['Yr Sold', 'Year Remod/Add'], axis = 1, inplace=True)\n",
    "\n",
    "test_df['Yrs since Remodel'] = test_df['Yr Sold'] - test_df['Year Remod/Add']\n",
    "test_df.drop(columns=['Yr Sold', 'Year Remod/Add'], axis = 1, inplace=True)"
   ]
  },
  {
   "cell_type": "code",
   "execution_count": 9,
   "metadata": {},
   "outputs": [],
   "source": [
    "# calculate non-bdrm rooms abvgrd from bedrooms and rooms to reduce structural multicollinearity\n",
    "df['Non-bdrm Rooms AbvGrd'] = df['TotRms AbvGrd'] - df['Bedroom AbvGr']\n",
    "df.drop(columns=['TotRms AbvGrd'], axis = 1, inplace=True)\n",
    "\n",
    "test_df['Non-bdrm Rooms AbvGrd'] = test_df['TotRms AbvGrd'] - test_df['Bedroom AbvGr']\n",
    "test_df.drop(columns=['TotRms AbvGrd'], axis = 1, inplace=True)"
   ]
  },
  {
   "cell_type": "markdown",
   "metadata": {},
   "source": [
    "# Feature Engineering"
   ]
  },
  {
   "cell_type": "markdown",
   "metadata": {},
   "source": [
    "### Make Dummy Categorical Features:"
   ]
  },
  {
   "cell_type": "code",
   "execution_count": 10,
   "metadata": {},
   "outputs": [],
   "source": [
    "# which columns need dummies?\n",
    "\n",
    "all_pre_dummy_features = list(df.columns)\n",
    "\n",
    "obj_dummies = list(df.select_dtypes(include=['object']).columns)  # find all columns with object dtypes\n",
    "extra_dummies = ['MS SubClass', 'Overall Qual', 'Overall Cond']    # these are numeric columns that need dummy variables\n",
    "###############change these to strings\n",
    "############## do this for the test set too\n",
    "df[extra_dummies] = df[extra_dummies].astype('str')\n",
    "need_dummies = obj_dummies + extra_dummies\n",
    "\n",
    "# make a list of the columns that aren't dummies\n",
    "not_dummies = [x for x in df.columns if x not in need_dummies]\n",
    "\n",
    "#make a list of dummies that you want to look at interactions of and remove from need_dummies\n",
    "look_at_interact = ['Neighborhood', 'Overall Qual', 'Overall Cond']\n",
    "need_dummies = [item for item in need_dummies if item not in look_at_interact]"
   ]
  },
  {
   "cell_type": "code",
   "execution_count": 11,
   "metadata": {},
   "outputs": [],
   "source": [
    "# Make the dummy variables as a seperate df\n",
    "dummy_df = pd.get_dummies(df[need_dummies], columns = need_dummies, drop_first=True)\n",
    "\n",
    "dummy_test_df = pd.get_dummies(test_df[need_dummies], columns = need_dummies, drop_first=True)"
   ]
  },
  {
   "cell_type": "code",
   "execution_count": 12,
   "metadata": {},
   "outputs": [],
   "source": [
    "# update df with dummy variables of look_at_interact list\n",
    "pre_interact_df = pd.get_dummies(df[(not_dummies + look_at_interact)], columns = look_at_interact, drop_first=True)\n",
    "\n",
    "test_pre_interact_df = pd.get_dummies(test_df[(not_dummies + look_at_interact)], columns = look_at_interact, drop_first=True)\n",
    "\n",
    "########################## make sure interact dummies are all in the test_df\n",
    "add_interact_dummies = ['Neighborhood_GrnHill', 'Neighborhood_Landmrk', 'Overall Qual_2']\n",
    "\n",
    "# make new dummy columns in test set and set them to 0\n",
    "for col_name in add_interact_dummies:\n",
    "    test_pre_interact_df[col_name] = 0"
   ]
  },
  {
   "cell_type": "markdown",
   "metadata": {},
   "source": [
    "# Polynomial Interaction Features:"
   ]
  },
  {
   "cell_type": "code",
   "execution_count": 13,
   "metadata": {},
   "outputs": [],
   "source": [
    "# make interaction terms\n",
    "pf = PolynomialFeatures(include_bias = False)\n",
    "poly_df = pf.fit_transform(pre_interact_df)\n",
    "column_names = pf.get_feature_names(pre_interact_df.columns)\n",
    "poly_df = pd.DataFrame(poly_df, columns = column_names)\n",
    "\n",
    "# do the same thing for the test set\n",
    "pf = PolynomialFeatures(include_bias = False)\n",
    "test_poly_df = pf.fit_transform(test_pre_interact_df)\n",
    "test_poly_df = pd.DataFrame(test_poly_df, columns = column_names)"
   ]
  },
  {
   "cell_type": "markdown",
   "metadata": {},
   "source": [
    "# Scaling:"
   ]
  },
  {
   "cell_type": "code",
   "execution_count": 14,
   "metadata": {},
   "outputs": [],
   "source": [
    "# Scaling\n",
    "ss = StandardScaler()\n",
    "\n",
    "scaled_df = ss.fit_transform(poly_df)\n",
    "scaled_df = pd.DataFrame(scaled_df, columns=poly_df.columns)\n",
    "\n",
    "test_scaled_df = ss.transform(test_poly_df)\n",
    "test_scaled_df = pd.DataFrame(test_scaled_df, columns=test_poly_df.columns)"
   ]
  },
  {
   "cell_type": "code",
   "execution_count": 15,
   "metadata": {},
   "outputs": [],
   "source": [
    "#add the dummies to the scaled dfs\n",
    "scaled_df = pd.concat([scaled_df, dummy_df], axis = 1)\n",
    "test_scaled_df = pd.concat([test_scaled_df, dummy_test_df], axis = 1)"
   ]
  },
  {
   "cell_type": "code",
   "execution_count": 16,
   "metadata": {},
   "outputs": [],
   "source": [
    "# make sure the dummies are the same for the train data and test data\n",
    "\n",
    "#################### make a list of the dummy columns from training set not in test set\n",
    "add_dummies = ['MS Zoning_C (all)', 'Heating QC_Po', 'MS SubClass_150', 'MS SubClass_20']\n",
    "\n",
    "# make new dummy columns in test set and set them to 0\n",
    "for col_name in add_dummies:\n",
    "    test_scaled_df[col_name] = 0"
   ]
  },
  {
   "cell_type": "markdown",
   "metadata": {},
   "source": [
    " # Select Features:"
   ]
  },
  {
   "cell_type": "code",
   "execution_count": 17,
   "metadata": {},
   "outputs": [],
   "source": [
    "####################get features list from training data, except 'SalePrice'\n",
    "all_features = list(scaled_df.columns)\n",
    "features = all_features\n",
    "features.remove('Gr Liv Area Garage Cars')"
   ]
  },
  {
   "cell_type": "code",
   "execution_count": 18,
   "metadata": {},
   "outputs": [],
   "source": [
    "# make sure test_scaled_df has the same features as scaled_df\n",
    "test_scaled_df = test_scaled_df[features]"
   ]
  },
  {
   "cell_type": "code",
   "execution_count": 19,
   "metadata": {},
   "outputs": [],
   "source": [
    "# all_features\n",
    "# features"
   ]
  },
  {
   "cell_type": "code",
   "execution_count": 20,
   "metadata": {},
   "outputs": [],
   "source": [
    "# Create X predictor matrix and target\n",
    "X = scaled_df[features]\n",
    "y = train['SalePrice']"
   ]
  },
  {
   "cell_type": "markdown",
   "metadata": {},
   "source": [
    "# Modeling Function: \n",
    "---"
   ]
  },
  {
   "cell_type": "code",
   "execution_count": 21,
   "metadata": {},
   "outputs": [],
   "source": [
    "# Make things necessary for the model to save and show results\n",
    "\n",
    "index_labels = ['Test score','Train score', 'Best Params', 'Params Tried', 'Notes'] # 'Sensitivity', 'Specificity', 'Precision'\n",
    "\n",
    "all_results = pd.DataFrame(index=index_labels)\n",
    "# all_params = pd.DataFrame(columns = ['Parameters'])\n",
    "\n",
    "# set dataframe options to display long strings rather than truncating them\n",
    "pd.set_option('display.max_colwidth', 10000)"
   ]
  },
  {
   "cell_type": "code",
   "execution_count": 22,
   "metadata": {},
   "outputs": [],
   "source": [
    "def fit_model(model, model_name, params, all_results, notes):\n",
    "    start_time = time.time() # watch the clock\n",
    "\n",
    "    # train-test-split the training data\n",
    "    X_train, X_holdout, y_train, y_holdout = train_test_split(X, y, test_size = .3, random_state=None)\n",
    "    \n",
    "    # fit the model\n",
    "    model = GridSearchCV(model, params, n_jobs=-1, cv = 3)\n",
    "    model.fit(X_train, y_train)\n",
    "    \n",
    "    # pick out the best model\n",
    "    best_model = model.best_estimator_\n",
    "    \n",
    "    # make predictions\n",
    "    pred = best_model.predict(X_holdout)\n",
    "    \n",
    "    # Calculate results\n",
    "    index_labels = ['Test score', 'Train score', 'Best Params', 'Params Tried', 'Notes'] # 'Sensitivity', 'Specificity', 'Precision'\n",
    "    result = pd.DataFrame(index = index_labels, columns=[model_name])\n",
    "    result.loc['Test score'][model_name] = round(best_model.score(X_holdout, y_holdout), 3)\n",
    "    result.loc['Train score'][model_name] = round(model.best_score_, 3)\n",
    "    result.loc['Best Params'][model_name] = model.best_params_\n",
    "    result.loc['Params Tried'][model_name] = params\n",
    "    result.loc['Notes'][model_name] = notes\n",
    "\n",
    "    display(result.head(2)) # display test results\n",
    "    display(result.tail(3)) # display parameters and notes\n",
    "\n",
    "    # add results and params to all_results and all_params\n",
    "    all_results = pd.concat([all_results, result], axis=1)\n",
    "    \n",
    "    # plot actual vs. predicted\n",
    "    fig, ax = plt.subplots(figsize=(8,6))\n",
    "    plt.scatter(y_holdout, pred)\n",
    "    ax.set_xlabel('True Values', size = 20)\n",
    "    ax.set_ylabel('Predictions', size = 20)\n",
    "    plt.title('Predictions vs. Actual', size = 20)\n",
    "    ax.grid()\n",
    "    plt.plot([0, 600000], [0, 600000], 'k--', lw=3)\n",
    "    \n",
    "    # print the runtime\n",
    "    end_time = time.time()\n",
    "    print('Runtime: ', round((end_time - start_time)/60, 3), ' minutes')\n",
    "    \n",
    "    return all_results, best_model, pred # all_params"
   ]
  },
  {
   "cell_type": "markdown",
   "metadata": {},
   "source": [
    "# Model Mania!!!"
   ]
  },
  {
   "cell_type": "code",
   "execution_count": 21,
   "metadata": {},
   "outputs": [
    {
     "name": "stderr",
     "output_type": "stream",
     "text": [
      "Using TensorFlow backend.\n"
     ]
    },
    {
     "name": "stdout",
     "output_type": "stream",
     "text": [
      "Couldn't import dot_parser, loading of dot files will not be possible.\n"
     ]
    }
   ],
   "source": [
    "from sklearn.preprocessing import StandardScaler\n",
    "from sklearn.model_selection import train_test_split\n",
    "\n",
    "from keras.models import Sequential\n",
    "from keras.layers import Dense, Dropout\n",
    "from keras import regularizers\n",
    "from keras.callbacks import EarlyStopping\n",
    "\n",
    "from sklearn.pipeline import Pipeline\n",
    "\n",
    "from keras.wrappers.scikit_learn import KerasRegressor"
   ]
  },
  {
   "cell_type": "code",
   "execution_count": 22,
   "metadata": {},
   "outputs": [],
   "source": [
    "nn_X_train, nn_X_test, nn_y_train, nn_y_test = train_test_split(poly_df, y)"
   ]
  },
  {
   "cell_type": "code",
   "execution_count": 24,
   "metadata": {},
   "outputs": [
    {
     "data": {
      "text/html": [
       "<div>\n",
       "<style scoped>\n",
       "    .dataframe tbody tr th:only-of-type {\n",
       "        vertical-align: middle;\n",
       "    }\n",
       "\n",
       "    .dataframe tbody tr th {\n",
       "        vertical-align: top;\n",
       "    }\n",
       "\n",
       "    .dataframe thead th {\n",
       "        text-align: right;\n",
       "    }\n",
       "</style>\n",
       "<table border=\"1\" class=\"dataframe\">\n",
       "  <thead>\n",
       "    <tr style=\"text-align: right;\">\n",
       "      <th></th>\n",
       "      <th>Lot Frontage</th>\n",
       "      <th>Lot Area</th>\n",
       "      <th>1st Flr SF</th>\n",
       "      <th>Gr Liv Area</th>\n",
       "      <th>Bedroom AbvGr</th>\n",
       "      <th>Fireplaces</th>\n",
       "      <th>Garage Cars</th>\n",
       "      <th>Age</th>\n",
       "      <th>Total Baths</th>\n",
       "      <th>Mo Sold After 1/1/2006</th>\n",
       "      <th>...</th>\n",
       "      <th>Overall Cond_6^2</th>\n",
       "      <th>Overall Cond_6 Overall Cond_7</th>\n",
       "      <th>Overall Cond_6 Overall Cond_8</th>\n",
       "      <th>Overall Cond_6 Overall Cond_9</th>\n",
       "      <th>Overall Cond_7^2</th>\n",
       "      <th>Overall Cond_7 Overall Cond_8</th>\n",
       "      <th>Overall Cond_7 Overall Cond_9</th>\n",
       "      <th>Overall Cond_8^2</th>\n",
       "      <th>Overall Cond_8 Overall Cond_9</th>\n",
       "      <th>Overall Cond_9^2</th>\n",
       "    </tr>\n",
       "  </thead>\n",
       "  <tbody>\n",
       "    <tr>\n",
       "      <th>1483</th>\n",
       "      <td>24.0</td>\n",
       "      <td>2364.0</td>\n",
       "      <td>855.0</td>\n",
       "      <td>1456.0</td>\n",
       "      <td>3.0</td>\n",
       "      <td>1.0</td>\n",
       "      <td>2.0</td>\n",
       "      <td>31.0</td>\n",
       "      <td>2.5</td>\n",
       "      <td>40.0</td>\n",
       "      <td>...</td>\n",
       "      <td>0.0</td>\n",
       "      <td>0.0</td>\n",
       "      <td>0.0</td>\n",
       "      <td>0.0</td>\n",
       "      <td>0.0</td>\n",
       "      <td>0.0</td>\n",
       "      <td>0.0</td>\n",
       "      <td>0.0</td>\n",
       "      <td>0.0</td>\n",
       "      <td>0.0</td>\n",
       "    </tr>\n",
       "    <tr>\n",
       "      <th>122</th>\n",
       "      <td>0.0</td>\n",
       "      <td>9945.0</td>\n",
       "      <td>988.0</td>\n",
       "      <td>988.0</td>\n",
       "      <td>3.0</td>\n",
       "      <td>0.0</td>\n",
       "      <td>2.0</td>\n",
       "      <td>46.0</td>\n",
       "      <td>2.0</td>\n",
       "      <td>22.0</td>\n",
       "      <td>...</td>\n",
       "      <td>0.0</td>\n",
       "      <td>0.0</td>\n",
       "      <td>0.0</td>\n",
       "      <td>0.0</td>\n",
       "      <td>0.0</td>\n",
       "      <td>0.0</td>\n",
       "      <td>0.0</td>\n",
       "      <td>0.0</td>\n",
       "      <td>0.0</td>\n",
       "      <td>0.0</td>\n",
       "    </tr>\n",
       "    <tr>\n",
       "      <th>2001</th>\n",
       "      <td>0.0</td>\n",
       "      <td>14171.0</td>\n",
       "      <td>1101.0</td>\n",
       "      <td>2200.0</td>\n",
       "      <td>4.0</td>\n",
       "      <td>1.0</td>\n",
       "      <td>2.0</td>\n",
       "      <td>15.0</td>\n",
       "      <td>2.5</td>\n",
       "      <td>36.0</td>\n",
       "      <td>...</td>\n",
       "      <td>0.0</td>\n",
       "      <td>0.0</td>\n",
       "      <td>0.0</td>\n",
       "      <td>0.0</td>\n",
       "      <td>0.0</td>\n",
       "      <td>0.0</td>\n",
       "      <td>0.0</td>\n",
       "      <td>0.0</td>\n",
       "      <td>0.0</td>\n",
       "      <td>0.0</td>\n",
       "    </tr>\n",
       "    <tr>\n",
       "      <th>865</th>\n",
       "      <td>100.0</td>\n",
       "      <td>17500.0</td>\n",
       "      <td>1902.0</td>\n",
       "      <td>1902.0</td>\n",
       "      <td>3.0</td>\n",
       "      <td>2.0</td>\n",
       "      <td>2.0</td>\n",
       "      <td>51.0</td>\n",
       "      <td>3.0</td>\n",
       "      <td>53.0</td>\n",
       "      <td>...</td>\n",
       "      <td>0.0</td>\n",
       "      <td>0.0</td>\n",
       "      <td>0.0</td>\n",
       "      <td>0.0</td>\n",
       "      <td>0.0</td>\n",
       "      <td>0.0</td>\n",
       "      <td>0.0</td>\n",
       "      <td>1.0</td>\n",
       "      <td>0.0</td>\n",
       "      <td>0.0</td>\n",
       "    </tr>\n",
       "    <tr>\n",
       "      <th>1708</th>\n",
       "      <td>70.0</td>\n",
       "      <td>9100.0</td>\n",
       "      <td>1836.0</td>\n",
       "      <td>1836.0</td>\n",
       "      <td>3.0</td>\n",
       "      <td>1.0</td>\n",
       "      <td>2.0</td>\n",
       "      <td>2.0</td>\n",
       "      <td>2.0</td>\n",
       "      <td>10.0</td>\n",
       "      <td>...</td>\n",
       "      <td>0.0</td>\n",
       "      <td>0.0</td>\n",
       "      <td>0.0</td>\n",
       "      <td>0.0</td>\n",
       "      <td>0.0</td>\n",
       "      <td>0.0</td>\n",
       "      <td>0.0</td>\n",
       "      <td>0.0</td>\n",
       "      <td>0.0</td>\n",
       "      <td>0.0</td>\n",
       "    </tr>\n",
       "  </tbody>\n",
       "</table>\n",
       "<p>5 rows × 1652 columns</p>\n",
       "</div>"
      ],
      "text/plain": [
       "      Lot Frontage  Lot Area  1st Flr SF  Gr Liv Area  Bedroom AbvGr  \\\n",
       "1483          24.0    2364.0       855.0       1456.0            3.0   \n",
       "122            0.0    9945.0       988.0        988.0            3.0   \n",
       "2001           0.0   14171.0      1101.0       2200.0            4.0   \n",
       "865          100.0   17500.0      1902.0       1902.0            3.0   \n",
       "1708          70.0    9100.0      1836.0       1836.0            3.0   \n",
       "\n",
       "      Fireplaces  Garage Cars   Age  Total Baths  Mo Sold After 1/1/2006  \\\n",
       "1483         1.0          2.0  31.0          2.5                    40.0   \n",
       "122          0.0          2.0  46.0          2.0                    22.0   \n",
       "2001         1.0          2.0  15.0          2.5                    36.0   \n",
       "865          2.0          2.0  51.0          3.0                    53.0   \n",
       "1708         1.0          2.0   2.0          2.0                    10.0   \n",
       "\n",
       "            ...         Overall Cond_6^2  Overall Cond_6 Overall Cond_7  \\\n",
       "1483        ...                      0.0                            0.0   \n",
       "122         ...                      0.0                            0.0   \n",
       "2001        ...                      0.0                            0.0   \n",
       "865         ...                      0.0                            0.0   \n",
       "1708        ...                      0.0                            0.0   \n",
       "\n",
       "      Overall Cond_6 Overall Cond_8  Overall Cond_6 Overall Cond_9  \\\n",
       "1483                            0.0                            0.0   \n",
       "122                             0.0                            0.0   \n",
       "2001                            0.0                            0.0   \n",
       "865                             0.0                            0.0   \n",
       "1708                            0.0                            0.0   \n",
       "\n",
       "      Overall Cond_7^2  Overall Cond_7 Overall Cond_8  \\\n",
       "1483               0.0                            0.0   \n",
       "122                0.0                            0.0   \n",
       "2001               0.0                            0.0   \n",
       "865                0.0                            0.0   \n",
       "1708               0.0                            0.0   \n",
       "\n",
       "      Overall Cond_7 Overall Cond_9  Overall Cond_8^2  \\\n",
       "1483                            0.0               0.0   \n",
       "122                             0.0               0.0   \n",
       "2001                            0.0               0.0   \n",
       "865                             0.0               1.0   \n",
       "1708                            0.0               0.0   \n",
       "\n",
       "      Overall Cond_8 Overall Cond_9  Overall Cond_9^2  \n",
       "1483                            0.0               0.0  \n",
       "122                             0.0               0.0  \n",
       "2001                            0.0               0.0  \n",
       "865                             0.0               0.0  \n",
       "1708                            0.0               0.0  \n",
       "\n",
       "[5 rows x 1652 columns]"
      ]
     },
     "execution_count": 24,
     "metadata": {},
     "output_type": "execute_result"
    }
   ],
   "source": [
    "nn_X_train.head()"
   ]
  },
  {
   "cell_type": "code",
   "execution_count": 26,
   "metadata": {},
   "outputs": [
    {
     "name": "stdout",
     "output_type": "stream",
     "text": [
      "Epoch 1/50\n",
      "769/769 [==============================] - 1s 812us/step - loss: 38448761766.7828\n",
      "Epoch 2/50\n",
      "769/769 [==============================] - 0s 126us/step - loss: 38446984997.6177\n",
      "Epoch 3/50\n",
      "769/769 [==============================] - 0s 122us/step - loss: 38441938814.5019\n",
      "Epoch 4/50\n",
      "769/769 [==============================] - 0s 115us/step - loss: 38430920570.8400\n",
      "Epoch 5/50\n",
      "769/769 [==============================] - 0s 109us/step - loss: 38408324073.3628\n",
      "Epoch 6/50\n",
      "769/769 [==============================] - 0s 123us/step - loss: 38370323364.1196\n",
      "Epoch 7/50\n",
      "769/769 [==============================] - 0s 127us/step - loss: 38307089194.9441\n",
      "Epoch 8/50\n",
      "769/769 [==============================] - 0s 104us/step - loss: 38223356053.1391\n",
      "Epoch 9/50\n",
      "769/769 [==============================] - 0s 93us/step - loss: 38083801825.7061\n",
      "Epoch 10/50\n",
      "769/769 [==============================] - 0s 107us/step - loss: 37910033899.3602\n",
      "Epoch 11/50\n",
      "769/769 [==============================] - 0s 96us/step - loss: 37689676657.5189\n",
      "Epoch 12/50\n",
      "769/769 [==============================] - 0s 100us/step - loss: 37436240505.8413\n",
      "Epoch 13/50\n",
      "769/769 [==============================] - 0s 101us/step - loss: 37074245293.1079\n",
      "Epoch 14/50\n",
      "769/769 [==============================] - 0s 104us/step - loss: 36599190235.0481\n",
      "Epoch 15/50\n",
      "769/769 [==============================] - 0s 102us/step - loss: 36191719168.3329\n",
      "Epoch 16/50\n",
      "769/769 [==============================] - 0s 119us/step - loss: 35578480624.0208\n",
      "Epoch 17/50\n",
      "769/769 [==============================] - 0s 114us/step - loss: 34906179461.4928\n",
      "Epoch 18/50\n",
      "769/769 [==============================] - 0s 97us/step - loss: 34096795512.1769\n",
      "Epoch 19/50\n",
      "769/769 [==============================] - 0s 106us/step - loss: 33288273062.4499\n",
      "Epoch 20/50\n",
      "769/769 [==============================] - 0s 100us/step - loss: 32332300871.2406\n",
      "Epoch 21/50\n",
      "769/769 [==============================] - 0s 100us/step - loss: 31677778913.3732\n",
      "Epoch 22/50\n",
      "769/769 [==============================] - 0s 101us/step - loss: 30148949584.5618\n",
      "Epoch 23/50\n",
      "769/769 [==============================] - 0s 93us/step - loss: 28933484691.8075\n",
      "Epoch 24/50\n",
      "769/769 [==============================] - 0s 95us/step - loss: 27648589461.8049\n",
      "Epoch 25/50\n",
      "769/769 [==============================] - 0s 106us/step - loss: 26894638751.1261\n",
      "Epoch 26/50\n",
      "769/769 [==============================] - 0s 121us/step - loss: 25639189745.6853\n",
      "Epoch 27/50\n",
      "769/769 [==============================] - 0s 117us/step - loss: 24008041011.2666\n",
      "Epoch 28/50\n",
      "769/769 [==============================] - 0s 112us/step - loss: 22650262622.5436\n",
      "Epoch 29/50\n",
      "769/769 [==============================] - 0s 121us/step - loss: 21780904003.9116\n",
      "Epoch 30/50\n",
      "769/769 [==============================] - 0s 122us/step - loss: 20031409791.1678\n",
      "Epoch 31/50\n",
      "769/769 [==============================] - 0s 123us/step - loss: 18939915603.5579\n",
      "Epoch 32/50\n",
      "769/769 [==============================] - 0s 114us/step - loss: 17347629234.4343\n",
      "Epoch 33/50\n",
      "769/769 [==============================] - 0s 129us/step - loss: 16577131971.4122\n",
      "Epoch 34/50\n",
      "769/769 [==============================] - 0s 115us/step - loss: 15504275415.3862\n",
      "Epoch 35/50\n",
      "769/769 [==============================] - 0s 118us/step - loss: 14182750494.2939\n",
      "Epoch 36/50\n",
      "769/769 [==============================] - 0s 116us/step - loss: 13635324760.2185\n",
      "Epoch 37/50\n",
      "769/769 [==============================] - 0s 115us/step - loss: 11927225471.1678\n",
      "Epoch 38/50\n",
      "769/769 [==============================] - 0s 118us/step - loss: 11698856141.0663\n",
      "Epoch 39/50\n",
      "769/769 [==============================] - 0s 99us/step - loss: 10323332006.7828\n",
      "Epoch 40/50\n",
      "769/769 [==============================] - 0s 103us/step - loss: 9741651801.5501\n",
      "Epoch 41/50\n",
      "769/769 [==============================] - 0s 120us/step - loss: 9729445692.5878\n",
      "Epoch 42/50\n",
      "769/769 [==============================] - 0s 115us/step - loss: 9575888134.3251\n",
      "Epoch 43/50\n",
      "769/769 [==============================] - 0s 115us/step - loss: 8969379142.9077\n",
      "Epoch 44/50\n",
      "769/769 [==============================] - 0s 130us/step - loss: 8289048453.4928\n",
      "Epoch 45/50\n",
      "769/769 [==============================] - 0s 123us/step - loss: 7861249289.9870\n",
      "Epoch 46/50\n",
      "769/769 [==============================] - 0s 114us/step - loss: 7440406822.3667\n",
      "Epoch 47/50\n",
      "769/769 [==============================] - 0s 128us/step - loss: 7480641739.4018\n",
      "Epoch 48/50\n",
      "769/769 [==============================] - 0s 109us/step - loss: 7305819512.8427\n",
      "Epoch 49/50\n",
      "769/769 [==============================] - 0s 122us/step - loss: 7070681764.0364\n",
      "Epoch 50/50\n",
      "769/769 [==============================] - 0s 116us/step - loss: 7179270702.1899\n",
      "769/769 [==============================] - 0s 234us/step\n",
      "769/769 [==============================] - 0s 52us/step\n",
      "Epoch 1/50\n",
      "769/769 [==============================] - 1s 1ms/step - loss: 39709833591.5111\n",
      "Epoch 2/50\n",
      "769/769 [==============================] - 0s 118us/step - loss: 39708182631.8648\n",
      "Epoch 3/50\n",
      "769/769 [==============================] - 0s 122us/step - loss: 39704932399.9376\n",
      "Epoch 4/50\n",
      "769/769 [==============================] - 0s 107us/step - loss: 39697899221.7217\n",
      "Epoch 5/50\n",
      "769/769 [==============================] - 0s 98us/step - loss: 39682542193.8518\n",
      "Epoch 6/50\n",
      "769/769 [==============================] - 0s 108us/step - loss: 39656619446.0962\n",
      "Epoch 7/50\n",
      "769/769 [==============================] - 0s 97us/step - loss: 39608092947.6411\n",
      "Epoch 8/50\n",
      "769/769 [==============================] - 0s 114us/step - loss: 39525142650.5072\n",
      "Epoch 9/50\n",
      "769/769 [==============================] - 0s 114us/step - loss: 39422193315.7867\n",
      "Epoch 10/50\n",
      "769/769 [==============================] - 0s 118us/step - loss: 39277021908.3901\n",
      "Epoch 11/50\n",
      "769/769 [==============================] - 0s 116us/step - loss: 39090266315.0689\n",
      "Epoch 12/50\n",
      "769/769 [==============================] - 0s 113us/step - loss: 38849619517.9194\n",
      "Epoch 13/50\n",
      "769/769 [==============================] - 0s 117us/step - loss: 38505467408.6450\n",
      "Epoch 14/50\n",
      "769/769 [==============================] - 0s 113us/step - loss: 38137191904.7074\n",
      "Epoch 15/50\n",
      "769/769 [==============================] - 0s 115us/step - loss: 37703078342.0754\n",
      "Epoch 16/50\n",
      "769/769 [==============================] - 0s 117us/step - loss: 37200859367.6983\n",
      "Epoch 17/50\n",
      "769/769 [==============================] - 0s 116us/step - loss: 36738345633.7893\n",
      "Epoch 18/50\n",
      "769/769 [==============================] - 0s 126us/step - loss: 35890363886.0234\n",
      "Epoch 19/50\n",
      "769/769 [==============================] - 0s 115us/step - loss: 35000709922.9545\n",
      "Epoch 20/50\n",
      "769/769 [==============================] - 0s 120us/step - loss: 34330983036.5046\n",
      "Epoch 21/50\n",
      "769/769 [==============================] - 0s 123us/step - loss: 32961478160.6450\n",
      "Epoch 22/50\n",
      "769/769 [==============================] - 0s 121us/step - loss: 32105106891.4018\n",
      "Epoch 23/50\n",
      "769/769 [==============================] - 0s 125us/step - loss: 31166582621.5449\n",
      "Epoch 24/50\n",
      "769/769 [==============================] - 0s 127us/step - loss: 29600590220.8166\n",
      "Epoch 25/50\n",
      "769/769 [==============================] - 0s 122us/step - loss: 28841376172.7750\n",
      "Epoch 26/50\n",
      "769/769 [==============================] - 0s 132us/step - loss: 27043659807.9584\n",
      "Epoch 27/50\n",
      "769/769 [==============================] - 0s 108us/step - loss: 25690590721.9974\n",
      "Epoch 28/50\n",
      "769/769 [==============================] - 0s 106us/step - loss: 24705530792.1144\n",
      "Epoch 29/50\n",
      "769/769 [==============================] - 0s 97us/step - loss: 23683609992.8218\n",
      "Epoch 30/50\n",
      "769/769 [==============================] - 0s 91us/step - loss: 21497456472.2185\n",
      "Epoch 31/50\n",
      "769/769 [==============================] - 0s 95us/step - loss: 20386778825.7373\n",
      "Epoch 32/50\n",
      "769/769 [==============================] - 0s 108us/step - loss: 19545205513.3212\n",
      "Epoch 33/50\n",
      "769/769 [==============================] - 0s 93us/step - loss: 18165566169.7165\n",
      "Epoch 34/50\n",
      "769/769 [==============================] - 0s 123us/step - loss: 16794363672.0936\n",
      "Epoch 35/50\n",
      "769/769 [==============================] - 0s 118us/step - loss: 15254833727.2510\n",
      "Epoch 36/50\n",
      "769/769 [==============================] - 0s 114us/step - loss: 14192504026.3823\n",
      "Epoch 37/50\n"
     ]
    },
    {
     "name": "stdout",
     "output_type": "stream",
     "text": [
      "769/769 [==============================] - 0s 114us/step - loss: 13266546628.7438\n",
      "Epoch 38/50\n",
      "769/769 [==============================] - 0s 127us/step - loss: 12907853742.4395\n",
      "Epoch 39/50\n",
      "769/769 [==============================] - 0s 112us/step - loss: 11684489993.9870\n",
      "Epoch 40/50\n",
      "769/769 [==============================] - 0s 107us/step - loss: 10703036234.5696\n",
      "Epoch 41/50\n",
      "769/769 [==============================] - 0s 109us/step - loss: 9986688653.8153\n",
      "Epoch 42/50\n",
      "769/769 [==============================] - 0s 117us/step - loss: 9199258936.2601\n",
      "Epoch 43/50\n",
      "769/769 [==============================] - 0s 107us/step - loss: 8608929371.5475\n",
      "Epoch 44/50\n",
      "769/769 [==============================] - 0s 97us/step - loss: 8411784887.8440\n",
      "Epoch 45/50\n",
      "769/769 [==============================] - 0s 111us/step - loss: 7867357309.1704\n",
      "Epoch 46/50\n",
      "769/769 [==============================] - 0s 108us/step - loss: 7479520008.3225\n",
      "Epoch 47/50\n",
      "769/769 [==============================] - 0s 102us/step - loss: 7183888041.2588\n",
      "Epoch 48/50\n",
      "769/769 [==============================] - 0s 100us/step - loss: 7353087564.5670\n",
      "Epoch 49/50\n",
      "769/769 [==============================] - 0s 109us/step - loss: 6867247070.7100\n",
      "Epoch 50/50\n",
      "769/769 [==============================] - 0s 129us/step - loss: 6840697538.4135\n",
      "769/769 [==============================] - 0s 272us/step\n",
      "769/769 [==============================] - 0s 44us/step\n",
      "Epoch 1/50\n",
      "1538/1538 [==============================] - 1s 791us/step - loss: 39079120299.4434\n",
      "Epoch 2/50\n",
      "1538/1538 [==============================] - 0s 125us/step - loss: 39072250455.2198\n",
      "Epoch 3/50\n",
      "1538/1538 [==============================] - 0s 111us/step - loss: 39038487289.6749\n",
      "Epoch 4/50\n",
      "1538/1538 [==============================] - 0s 121us/step - loss: 38935288822.6788\n",
      "Epoch 5/50\n",
      "1538/1538 [==============================] - 0s 124us/step - loss: 38716763419.6307\n",
      "Epoch 6/50\n",
      "1538/1538 [==============================] - 0s 96us/step - loss: 38311004924.3381\n",
      "Epoch 7/50\n",
      "1538/1538 [==============================] - 0s 105us/step - loss: 37765790976.9987\n",
      "Epoch 8/50\n",
      "1538/1538 [==============================] - 0s 122us/step - loss: 36984200670.0442\n",
      "Epoch 9/50\n",
      "1538/1538 [==============================] - 0s 101us/step - loss: 35745659204.9103\n",
      "Epoch 10/50\n",
      "1538/1538 [==============================] - 0s 108us/step - loss: 34326725417.6125\n",
      "Epoch 11/50\n",
      "1538/1538 [==============================] - 0s 118us/step - loss: 32539145859.1626\n",
      "Epoch 12/50\n",
      "1538/1538 [==============================] - 0s 124us/step - loss: 30376493870.9389\n",
      "Epoch 13/50\n",
      "1538/1538 [==============================] - 0s 119us/step - loss: 28207474384.3953\n",
      "Epoch 14/50\n",
      "1538/1538 [==============================] - 0s 115us/step - loss: 25257239896.8843\n",
      "Epoch 15/50\n",
      "1538/1538 [==============================] - 0s 114us/step - loss: 22882996639.4590\n",
      "Epoch 16/50\n",
      "1538/1538 [==============================] - 0s 112us/step - loss: 20247918669.2328\n",
      "Epoch 17/50\n",
      "1538/1538 [==============================] - 0s 121us/step - loss: 18132252509.5449\n",
      "Epoch 18/50\n",
      "1538/1538 [==============================] - 0s 118us/step - loss: 15624327403.6931\n",
      "Epoch 19/50\n",
      "1538/1538 [==============================] - 0s 118us/step - loss: 13444714749.0039\n",
      "Epoch 20/50\n",
      "1538/1538 [==============================] - 0s 118us/step - loss: 12376410412.9415\n",
      "Epoch 21/50\n",
      "1538/1538 [==============================] - 0s 108us/step - loss: 11117896532.2237\n",
      "Epoch 22/50\n",
      "1538/1538 [==============================] - 0s 116us/step - loss: 9575597378.9129\n",
      "Epoch 23/50\n",
      "1538/1538 [==============================] - 0s 116us/step - loss: 8852015474.8505\n",
      "Epoch 24/50\n",
      "1538/1538 [==============================] - 0s 115us/step - loss: 8309143120.5618\n",
      "Epoch 25/50\n",
      "1538/1538 [==============================] - 0s 128us/step - loss: 7573236755.6411\n",
      "Epoch 26/50\n",
      "1538/1538 [==============================] - 0s 108us/step - loss: 7418959917.2744\n",
      "Epoch 27/50\n",
      "1538/1538 [==============================] - 0s 101us/step - loss: 6866340322.0390\n",
      "Epoch 28/50\n",
      "1538/1538 [==============================] - 0s 100us/step - loss: 6626900669.7529\n",
      "Epoch 29/50\n",
      "1538/1538 [==============================] - 0s 101us/step - loss: 6268151864.5930\n",
      "Epoch 30/50\n",
      "1538/1538 [==============================] - 0s 103us/step - loss: 6632266315.2250\n",
      "Epoch 31/50\n",
      "1538/1538 [==============================] - 0s 102us/step - loss: 6549995848.9051\n",
      "Epoch 32/50\n",
      "1538/1538 [==============================] - 0s 124us/step - loss: 6266652134.0338\n",
      "Epoch 33/50\n",
      "1538/1538 [==============================] - 0s 127us/step - loss: 6532669422.3563\n",
      "Epoch 34/50\n",
      "1538/1538 [==============================] - 0s 124us/step - loss: 6179042801.0195\n",
      "Epoch 35/50\n",
      "1538/1538 [==============================] - 0s 120us/step - loss: 6747401862.1586\n",
      "Epoch 36/50\n",
      "1538/1538 [==============================] - 0s 125us/step - loss: 6496717216.5410\n",
      "Epoch 37/50\n",
      "1538/1538 [==============================] - 0s 122us/step - loss: 5782685129.9038\n",
      "Epoch 38/50\n",
      "1538/1538 [==============================] - 0s 130us/step - loss: 6119123728.9779\n",
      "Epoch 39/50\n",
      "1538/1538 [==============================] - 0s 109us/step - loss: 5909495560.4057\n",
      "Epoch 40/50\n",
      "1538/1538 [==============================] - 0s 97us/step - loss: 6109082622.6684\n",
      "Epoch 41/50\n",
      "1538/1538 [==============================] - 0s 99us/step - loss: 6167809727.7503\n",
      "Epoch 42/50\n",
      "1538/1538 [==============================] - 0s 94us/step - loss: 6273222462.2835\n",
      "Epoch 43/50\n",
      "1538/1538 [==============================] - 0s 94us/step - loss: 6225230512.4369\n",
      "Epoch 44/50\n",
      "1538/1538 [==============================] - 0s 96us/step - loss: 5913115910.3251\n",
      "Epoch 45/50\n",
      "1538/1538 [==============================] - 0s 100us/step - loss: 5956789212.0468\n",
      "Epoch 46/50\n",
      "1538/1538 [==============================] - 0s 96us/step - loss: 6366303471.0221\n",
      "Epoch 47/50\n",
      "1538/1538 [==============================] - 0s 119us/step - loss: 5480831168.4161\n",
      "Epoch 48/50\n",
      "1538/1538 [==============================] - 0s 120us/step - loss: 6241858113.9142\n",
      "Epoch 49/50\n",
      "1538/1538 [==============================] - 0s 112us/step - loss: 5753980536.5098\n",
      "Epoch 50/50\n",
      "1538/1538 [==============================] - 0s 117us/step - loss: 5466652191.2926\n",
      "-4545478138.746424\n",
      "{'nn__epochs': 50, 'nn__layer_one_dropout': 0.5, 'nn__layer_one_neurons': 30}\n",
      "513/513 [==============================] - 0s 446us/step\n",
      "-1978831944.3586745\n"
     ]
    }
   ],
   "source": [
    "# Neural Network\n",
    "\n",
    "def model_func(layer_one_neurons=1652, layer_one_dropout=.5):\n",
    "    model = Sequential()\n",
    "    model.add(Dense(layer_one_neurons, activation='relu', input_dim=nn_X_train.shape[1]))\n",
    "    model.add(Dropout(layer_one_dropout))\n",
    "    model.add(Dense(layer_one_neurons, activation='relu', input_dim=nn_X_train.shape[1]))\n",
    "    model.add(Dropout(layer_one_dropout))\n",
    "    model.add(Dense(1, activation='linear'))\n",
    "\n",
    "    model.compile(loss='mse', optimizer='adam') #metrics=['accuracy'])\n",
    "    return model\n",
    "\n",
    "nn = KerasRegressor(build_fn=model_func, verbose=1)\n",
    "ss = StandardScaler()\n",
    "\n",
    "pipe = Pipeline([\n",
    "    ('ss', ss),\n",
    "    ('nn', nn)\n",
    "])\n",
    "\n",
    "params = {\n",
    "    'nn__epochs': [50],\n",
    "    'nn__layer_one_neurons': [30],\n",
    "    'nn__layer_one_dropout': [.5]\n",
    "}\n",
    "gs = GridSearchCV(pipe, param_grid=params, cv=2)\n",
    "nn_results = gs.fit(nn_X_train, nn_y_train)\n",
    "\n",
    "print(gs.best_score_)\n",
    "print(gs.best_params_)\n",
    "print(gs.score(nn_X_test, nn_y_test))"
   ]
  },
  {
   "cell_type": "code",
   "execution_count": 38,
   "metadata": {},
   "outputs": [
    {
     "data": {
      "text/plain": [
       "GridSearchCV(cv=2, error_score='raise-deprecating',\n",
       "       estimator=Pipeline(memory=None,\n",
       "     steps=[('ss', StandardScaler(copy=True, with_mean=True, with_std=True)), ('nn', <keras.wrappers.scikit_learn.KerasRegressor object at 0x1a397be2b0>)]),\n",
       "       fit_params=None, iid='warn', n_jobs=None,\n",
       "       param_grid={'nn__epochs': [50], 'nn__layer_one_neurons': [30], 'nn__layer_one_dropout': [0.5]},\n",
       "       pre_dispatch='2*n_jobs', refit=True, return_train_score='warn',\n",
       "       scoring=None, verbose=0)"
      ]
     },
     "execution_count": 38,
     "metadata": {},
     "output_type": "execute_result"
    }
   ],
   "source": [
    "nn_results"
   ]
  },
  {
   "cell_type": "code",
   "execution_count": null,
   "metadata": {},
   "outputs": [],
   "source": [
    "plt.plot(nn_results.history['loss'], label='Train Loss')\n",
    "plt.plot(nn_results.history['val_loss'], label='Test loss')\n",
    "plt.legend();"
   ]
  },
  {
   "cell_type": "markdown",
   "metadata": {},
   "source": [
    "### Random Forest"
   ]
  },
  {
   "cell_type": "code",
   "execution_count": 23,
   "metadata": {},
   "outputs": [
    {
     "data": {
      "text/html": [
       "<div>\n",
       "<style scoped>\n",
       "    .dataframe tbody tr th:only-of-type {\n",
       "        vertical-align: middle;\n",
       "    }\n",
       "\n",
       "    .dataframe tbody tr th {\n",
       "        vertical-align: top;\n",
       "    }\n",
       "\n",
       "    .dataframe thead th {\n",
       "        text-align: right;\n",
       "    }\n",
       "</style>\n",
       "<table border=\"1\" class=\"dataframe\">\n",
       "  <thead>\n",
       "    <tr style=\"text-align: right;\">\n",
       "      <th></th>\n",
       "      <th>Random Forest</th>\n",
       "    </tr>\n",
       "  </thead>\n",
       "  <tbody>\n",
       "    <tr>\n",
       "      <th>Test score</th>\n",
       "      <td>0.878</td>\n",
       "    </tr>\n",
       "    <tr>\n",
       "      <th>Train score</th>\n",
       "      <td>0.87</td>\n",
       "    </tr>\n",
       "  </tbody>\n",
       "</table>\n",
       "</div>"
      ],
      "text/plain": [
       "            Random Forest\n",
       "Test score          0.878\n",
       "Train score          0.87"
      ]
     },
     "metadata": {},
     "output_type": "display_data"
    },
    {
     "data": {
      "text/html": [
       "<div>\n",
       "<style scoped>\n",
       "    .dataframe tbody tr th:only-of-type {\n",
       "        vertical-align: middle;\n",
       "    }\n",
       "\n",
       "    .dataframe tbody tr th {\n",
       "        vertical-align: top;\n",
       "    }\n",
       "\n",
       "    .dataframe thead th {\n",
       "        text-align: right;\n",
       "    }\n",
       "</style>\n",
       "<table border=\"1\" class=\"dataframe\">\n",
       "  <thead>\n",
       "    <tr style=\"text-align: right;\">\n",
       "      <th></th>\n",
       "      <th>Random Forest</th>\n",
       "    </tr>\n",
       "  </thead>\n",
       "  <tbody>\n",
       "    <tr>\n",
       "      <th>Best Params</th>\n",
       "      <td>{'bootstrap': True, 'max_depth': None, 'max_features': 'auto', 'max_leaf_nodes': None, 'min_samples_leaf': 2, 'min_samples_split': 7, 'n_estimators': 100}</td>\n",
       "    </tr>\n",
       "    <tr>\n",
       "      <th>Params Tried</th>\n",
       "      <td>{'n_estimators': [100], 'min_samples_split': [7], 'min_samples_leaf': [2], 'bootstrap': [True], 'max_depth': [None], 'max_leaf_nodes': [None], 'max_features': ['auto']}</td>\n",
       "    </tr>\n",
       "    <tr>\n",
       "      <th>Notes</th>\n",
       "      <td>Picked min_samples_leaf=1, bootstrap=True, n_estimators=100, min_samples_leaf=2</td>\n",
       "    </tr>\n",
       "  </tbody>\n",
       "</table>\n",
       "</div>"
      ],
      "text/plain": [
       "                                                                                                                                                                         Random Forest\n",
       "Best Params                 {'bootstrap': True, 'max_depth': None, 'max_features': 'auto', 'max_leaf_nodes': None, 'min_samples_leaf': 2, 'min_samples_split': 7, 'n_estimators': 100}\n",
       "Params Tried  {'n_estimators': [100], 'min_samples_split': [7], 'min_samples_leaf': [2], 'bootstrap': [True], 'max_depth': [None], 'max_leaf_nodes': [None], 'max_features': ['auto']}\n",
       "Notes                                                                                                  Picked min_samples_leaf=1, bootstrap=True, n_estimators=100, min_samples_leaf=2"
      ]
     },
     "metadata": {},
     "output_type": "display_data"
    },
    {
     "name": "stdout",
     "output_type": "stream",
     "text": [
      "Runtime:  0.397  minutes\n"
     ]
    },
    {
     "data": {
      "text/plain": [
       "<matplotlib.axes._subplots.AxesSubplot at 0x1a2c4f7400>"
      ]
     },
     "execution_count": 23,
     "metadata": {},
     "output_type": "execute_result"
    },
    {
     "data": {
      "image/png": "[encoded data removed]",
      "text/plain": [
       "<Figure size 576x432 with 1 Axes>"
      ]
     },
     "metadata": {
      "needs_background": "light"
     },
     "output_type": "display_data"
    },
    {
     "data": {
      "image/png": "[encoded data removed]",
      "text/plain": [
       "<Figure size 432x288 with 1 Axes>"
      ]
     },
     "metadata": {
      "needs_background": "light"
     },
     "output_type": "display_data"
    }
   ],
   "source": [
    "# max_feat_default = np.sqrt(len(X_train.columns))\n",
    "# max_feat_to_check = range(\n",
    "#                         int(max_feat_default - 0 * max_feat_default), # lowerbound of default setting: sqrt(features)\n",
    "#                         int(max_feat_default + 4 * max_feat_default), # upperbound of default setting: sqrt(features)\n",
    "#                         int(2 * max_feat_default)) # Step size: Coef of default: sqrt(features)\n",
    "# max_feat_to_check.append(None)\n",
    "\n",
    "# set parameters\n",
    "rf_params = {\n",
    "            'n_estimators': [100],\n",
    "            'min_samples_split': [7],\n",
    "            'min_samples_leaf': [2],\n",
    "            'bootstrap': [True],\n",
    "            'max_depth':[None],\n",
    "            'max_leaf_nodes': [None],\n",
    "            'max_features': ['auto'], # max_feat_to_check\n",
    "}\n",
    "\n",
    "rf_notes = 'Picked min_samples_leaf=1, bootstrap=True, n_estimators=100, min_samples_leaf=2'\n",
    "\n",
    "# call the fit_model function\n",
    "all_results, rf_best_model, rf_preds = fit_model(RandomForestRegressor(), \n",
    "                                                 'Random Forest', \n",
    "                                                 rf_params, \n",
    "                                                 all_results, \n",
    "                                                 rf_notes\n",
    "                                                )\n",
    "\n",
    "# Top features\n",
    "feat_importance = pd.DataFrame(rf_best_model.feature_importances_, index=all_features).sort_values(by=0, ascending=False)\n",
    "feat_importance.head(15).plot(kind='barh')\n"
   ]
  },
  {
   "cell_type": "code",
   "execution_count": 26,
   "metadata": {},
   "outputs": [
    {
     "data": {
      "text/html": [
       "<div>\n",
       "<style scoped>\n",
       "    .dataframe tbody tr th:only-of-type {\n",
       "        vertical-align: middle;\n",
       "    }\n",
       "\n",
       "    .dataframe tbody tr th {\n",
       "        vertical-align: top;\n",
       "    }\n",
       "\n",
       "    .dataframe thead th {\n",
       "        text-align: right;\n",
       "    }\n",
       "</style>\n",
       "<table border=\"1\" class=\"dataframe\">\n",
       "  <thead>\n",
       "    <tr style=\"text-align: right;\">\n",
       "      <th></th>\n",
       "      <th>SVM</th>\n",
       "    </tr>\n",
       "  </thead>\n",
       "  <tbody>\n",
       "    <tr>\n",
       "      <th>Test score</th>\n",
       "      <td>0.809</td>\n",
       "    </tr>\n",
       "    <tr>\n",
       "      <th>Train score</th>\n",
       "      <td>0.821</td>\n",
       "    </tr>\n",
       "  </tbody>\n",
       "</table>\n",
       "</div>"
      ],
      "text/plain": [
       "               SVM\n",
       "Test score   0.809\n",
       "Train score  0.821"
      ]
     },
     "metadata": {},
     "output_type": "display_data"
    },
    {
     "data": {
      "text/html": [
       "<div>\n",
       "<style scoped>\n",
       "    .dataframe tbody tr th:only-of-type {\n",
       "        vertical-align: middle;\n",
       "    }\n",
       "\n",
       "    .dataframe tbody tr th {\n",
       "        vertical-align: top;\n",
       "    }\n",
       "\n",
       "    .dataframe thead th {\n",
       "        text-align: right;\n",
       "    }\n",
       "</style>\n",
       "<table border=\"1\" class=\"dataframe\">\n",
       "  <thead>\n",
       "    <tr style=\"text-align: right;\">\n",
       "      <th></th>\n",
       "      <th>SVM</th>\n",
       "    </tr>\n",
       "  </thead>\n",
       "  <tbody>\n",
       "    <tr>\n",
       "      <th>Best Params</th>\n",
       "      <td>{'C': 5, 'kernel': 'linear'}</td>\n",
       "    </tr>\n",
       "    <tr>\n",
       "      <th>Params Tried</th>\n",
       "      <td>{'kernel': ['linear', 'poly', 'rbf', 'sigmoid'], 'C': [0.5, 1, 1.5, 2, 3, 5]}</td>\n",
       "    </tr>\n",
       "    <tr>\n",
       "      <th>Notes</th>\n",
       "      <td>Beginning Tuning</td>\n",
       "    </tr>\n",
       "  </tbody>\n",
       "</table>\n",
       "</div>"
      ],
      "text/plain": [
       "                                                                                        SVM\n",
       "Best Params                                                    {'C': 5, 'kernel': 'linear'}\n",
       "Params Tried  {'kernel': ['linear', 'poly', 'rbf', 'sigmoid'], 'C': [0.5, 1, 1.5, 2, 3, 5]}\n",
       "Notes                                                                      Beginning Tuning"
      ]
     },
     "metadata": {},
     "output_type": "display_data"
    },
    {
     "name": "stdout",
     "output_type": "stream",
     "text": [
      "Runtime:  2.488  minutes\n"
     ]
    },
    {
     "data": {
      "image/png": "[encoded data removed]",
      "text/plain": [
       "<Figure size 576x432 with 1 Axes>"
      ]
     },
     "metadata": {
      "needs_background": "light"
     },
     "output_type": "display_data"
    }
   ],
   "source": [
    "# set parameters\n",
    "svm_params = {\n",
    "    'kernel' : ['linear', 'poly', 'rbf', 'sigmoid'], # 'precomputed'\n",
    "    'C' : [.5, 1, 3, 4, 5, 10]\n",
    "}\n",
    "\n",
    "svm_notes = 'Beginning Tuning'\n",
    "\n",
    "# call the fit_model function\n",
    "all_results, svm_best_model, svm_preds = fit_model(svm.SVR(), 'SVM', svm_params, all_results, svm_notes)\n"
   ]
  },
  {
   "cell_type": "code",
   "execution_count": 30,
   "metadata": {},
   "outputs": [
    {
     "data": {
      "text/html": [
       "<div>\n",
       "<style scoped>\n",
       "    .dataframe tbody tr th:only-of-type {\n",
       "        vertical-align: middle;\n",
       "    }\n",
       "\n",
       "    .dataframe tbody tr th {\n",
       "        vertical-align: top;\n",
       "    }\n",
       "\n",
       "    .dataframe thead th {\n",
       "        text-align: right;\n",
       "    }\n",
       "</style>\n",
       "<table border=\"1\" class=\"dataframe\">\n",
       "  <thead>\n",
       "    <tr style=\"text-align: right;\">\n",
       "      <th></th>\n",
       "      <th>Grad. Boost</th>\n",
       "    </tr>\n",
       "  </thead>\n",
       "  <tbody>\n",
       "    <tr>\n",
       "      <th>Test score</th>\n",
       "      <td>0.86</td>\n",
       "    </tr>\n",
       "    <tr>\n",
       "      <th>Train score</th>\n",
       "      <td>0.835</td>\n",
       "    </tr>\n",
       "  </tbody>\n",
       "</table>\n",
       "</div>"
      ],
      "text/plain": [
       "            Grad. Boost\n",
       "Test score         0.86\n",
       "Train score       0.835"
      ]
     },
     "metadata": {},
     "output_type": "display_data"
    },
    {
     "data": {
      "text/html": [
       "<div>\n",
       "<style scoped>\n",
       "    .dataframe tbody tr th:only-of-type {\n",
       "        vertical-align: middle;\n",
       "    }\n",
       "\n",
       "    .dataframe tbody tr th {\n",
       "        vertical-align: top;\n",
       "    }\n",
       "\n",
       "    .dataframe thead th {\n",
       "        text-align: right;\n",
       "    }\n",
       "</style>\n",
       "<table border=\"1\" class=\"dataframe\">\n",
       "  <thead>\n",
       "    <tr style=\"text-align: right;\">\n",
       "      <th></th>\n",
       "      <th>Grad. Boost</th>\n",
       "    </tr>\n",
       "  </thead>\n",
       "  <tbody>\n",
       "    <tr>\n",
       "      <th>Best Params</th>\n",
       "      <td>{'learning_rate': 0.1, 'max_depth': None, 'max_features': 'auto', 'max_leaf_nodes': None, 'min_samples_leaf': 2, 'min_samples_split': 2, 'n_estimators': 125}</td>\n",
       "    </tr>\n",
       "    <tr>\n",
       "      <th>Params Tried</th>\n",
       "      <td>{'learning_rate': [0.005, 0.1, 0.15, 0.25, 0.5], 'n_estimators': [50, 75, 100, 125, 150], 'min_samples_split': [2], 'min_samples_leaf': [2], 'max_depth': [None], 'max_leaf_nodes': [None], 'max_features': ['auto']}</td>\n",
       "    </tr>\n",
       "    <tr>\n",
       "      <th>Notes</th>\n",
       "      <td></td>\n",
       "    </tr>\n",
       "  </tbody>\n",
       "</table>\n",
       "</div>"
      ],
      "text/plain": [
       "                                                                                                                                                                                                                        Grad. Boost\n",
       "Best Params                                                           {'learning_rate': 0.1, 'max_depth': None, 'max_features': 'auto', 'max_leaf_nodes': None, 'min_samples_leaf': 2, 'min_samples_split': 2, 'n_estimators': 125}\n",
       "Params Tried  {'learning_rate': [0.005, 0.1, 0.15, 0.25, 0.5], 'n_estimators': [50, 75, 100, 125, 150], 'min_samples_split': [2], 'min_samples_leaf': [2], 'max_depth': [None], 'max_leaf_nodes': [None], 'max_features': ['auto']}\n",
       "Notes                                                                                                                                                                                                                              "
      ]
     },
     "metadata": {},
     "output_type": "display_data"
    },
    {
     "name": "stdout",
     "output_type": "stream",
     "text": [
      "Runtime:  22.019  minutes\n"
     ]
    },
    {
     "data": {
      "text/plain": [
       "<matplotlib.axes._subplots.AxesSubplot at 0x1a337561d0>"
      ]
     },
     "execution_count": 30,
     "metadata": {},
     "output_type": "execute_result"
    },
    {
     "data": {
      "image/png": "[encoded data removed]",
      "text/plain": [
       "<Figure size 576x432 with 1 Axes>"
      ]
     },
     "metadata": {
      "needs_background": "light"
     },
     "output_type": "display_data"
    },
    {
     "data": {
      "image/png": "[encoded data removed]",
      "text/plain": [
       "<Figure size 432x288 with 1 Axes>"
      ]
     },
     "metadata": {
      "needs_background": "light"
     },
     "output_type": "display_data"
    }
   ],
   "source": [
    "# max_feat_default = np.sqrt(len(X_train.columns))\n",
    "# max_feat_to_check = range(\n",
    "#                         int(max_feat_default - 0 * max_feat_default), # lowerbound of default setting: sqrt(features)\n",
    "#                         int(max_feat_default + 4 * max_feat_default), # upperbound of default setting: sqrt(features)\n",
    "#                         int(2 * max_feat_default)) # Step size: Coef of default: sqrt(features)\n",
    "# max_feat_to_check.append(None)\n",
    "\n",
    "# set parameters\n",
    "gb_params = {\n",
    "            'learning_rate' : [.0075, 0.1, .125,],\n",
    "            'n_estimators': [110, 125, 140],\n",
    "            'min_samples_split': [2],\n",
    "            'min_samples_leaf': [2],\n",
    "#             'bootstrap': [True, False],\n",
    "            'max_depth':[None],\n",
    "            'max_leaf_nodes': [None],\n",
    "            'max_features': ['auto'], # max_feat_to_check\n",
    "}\n",
    "\n",
    "gb_notes = ''\n",
    "\n",
    "# call the fit_model function\n",
    "all_results, gb_best_model, gb_preds = fit_model(GradientBoostingRegressor(), \n",
    "                                                 'Grad. Boost', \n",
    "                                                 gb_params, \n",
    "                                                 all_results, \n",
    "                                                 gb_notes\n",
    "                                                )\n",
    "\n",
    "# Top features\n",
    "feat_importance = pd.DataFrame(gb_best_model.feature_importances_, index=all_features).sort_values(by=0, ascending=False)\n",
    "feat_importance.head(15).plot(kind='barh')\n"
   ]
  },
  {
   "cell_type": "code",
   "execution_count": 31,
   "metadata": {},
   "outputs": [
    {
     "data": {
      "text/plain": [
       "<matplotlib.axes._subplots.AxesSubplot at 0x1a1a5228d0>"
      ]
     },
     "execution_count": 31,
     "metadata": {},
     "output_type": "execute_result"
    },
    {
     "data": {
      "image/png": "[encoded data removed]",
      "text/plain": [
       "<Figure size 432x288 with 1 Axes>"
      ]
     },
     "metadata": {
      "needs_background": "light"
     },
     "output_type": "display_data"
    }
   ],
   "source": [
    "# Top features\n",
    "feat_importance = pd.DataFrame(gb_best_model.feature_importances_, index=all_features).sort_values(by=0, ascending=False)\n",
    "feat_importance.head(15).plot(kind='barh')"
   ]
  },
  {
   "cell_type": "code",
   "execution_count": 32,
   "metadata": {},
   "outputs": [
    {
     "data": {
      "text/html": [
       "<div>\n",
       "<style scoped>\n",
       "    .dataframe tbody tr th:only-of-type {\n",
       "        vertical-align: middle;\n",
       "    }\n",
       "\n",
       "    .dataframe tbody tr th {\n",
       "        vertical-align: top;\n",
       "    }\n",
       "\n",
       "    .dataframe thead th {\n",
       "        text-align: right;\n",
       "    }\n",
       "</style>\n",
       "<table border=\"1\" class=\"dataframe\">\n",
       "  <thead>\n",
       "    <tr style=\"text-align: right;\">\n",
       "      <th></th>\n",
       "      <th>KNN</th>\n",
       "    </tr>\n",
       "  </thead>\n",
       "  <tbody>\n",
       "    <tr>\n",
       "      <th>Test score</th>\n",
       "      <td>0.788</td>\n",
       "    </tr>\n",
       "    <tr>\n",
       "      <th>Train score</th>\n",
       "      <td>0.802</td>\n",
       "    </tr>\n",
       "  </tbody>\n",
       "</table>\n",
       "</div>"
      ],
      "text/plain": [
       "               KNN\n",
       "Test score   0.788\n",
       "Train score  0.802"
      ]
     },
     "metadata": {},
     "output_type": "display_data"
    },
    {
     "data": {
      "text/html": [
       "<div>\n",
       "<style scoped>\n",
       "    .dataframe tbody tr th:only-of-type {\n",
       "        vertical-align: middle;\n",
       "    }\n",
       "\n",
       "    .dataframe tbody tr th {\n",
       "        vertical-align: top;\n",
       "    }\n",
       "\n",
       "    .dataframe thead th {\n",
       "        text-align: right;\n",
       "    }\n",
       "</style>\n",
       "<table border=\"1\" class=\"dataframe\">\n",
       "  <thead>\n",
       "    <tr style=\"text-align: right;\">\n",
       "      <th></th>\n",
       "      <th>KNN</th>\n",
       "    </tr>\n",
       "  </thead>\n",
       "  <tbody>\n",
       "    <tr>\n",
       "      <th>Best Params</th>\n",
       "      <td>{'metric': 'minkowski', 'n_neighbors': 5, 'p': 1, 'weights': 'distance'}</td>\n",
       "    </tr>\n",
       "    <tr>\n",
       "      <th>Params Tried</th>\n",
       "      <td>{'n_neighbors': [3, 4, 5, 10, 15, 20, 30, 40, 50], 'weights': ['uniform', 'distance'], 'metric': ['minkowski'], 'p': [1, 2, 3]}</td>\n",
       "    </tr>\n",
       "    <tr>\n",
       "      <th>Notes</th>\n",
       "      <td>Beginning Tuning</td>\n",
       "    </tr>\n",
       "  </tbody>\n",
       "</table>\n",
       "</div>"
      ],
      "text/plain": [
       "                                                                                                                                          KNN\n",
       "Best Params                                                          {'metric': 'minkowski', 'n_neighbors': 5, 'p': 1, 'weights': 'distance'}\n",
       "Params Tried  {'n_neighbors': [3, 4, 5, 10, 15, 20, 30, 40, 50], 'weights': ['uniform', 'distance'], 'metric': ['minkowski'], 'p': [1, 2, 3]}\n",
       "Notes                                                                                                                        Beginning Tuning"
      ]
     },
     "metadata": {},
     "output_type": "display_data"
    },
    {
     "name": "stdout",
     "output_type": "stream",
     "text": [
      "Runtime:  13.069  minutes\n"
     ]
    },
    {
     "data": {
      "image/png": "[encoded data removed]",
      "text/plain": [
       "<Figure size 576x432 with 1 Axes>"
      ]
     },
     "metadata": {
      "needs_background": "light"
     },
     "output_type": "display_data"
    }
   ],
   "source": [
    "# set parameters\n",
    "knn_params = {\n",
    "    'n_neighbors': [3, 4, 5, 7, 10, 15, 25],\n",
    "    'weights': ['uniform', 'distance'],\n",
    "    'metric': ['minkowski'],\n",
    "    'p': [1, 2, 3] # p = 1 and 2 correspondes to Manhattan and Euclidean distance metrics repsectively\n",
    "}\n",
    "\n",
    "knn_notes = 'Beginning Tuning'\n",
    "\n",
    "# call the fit_model function\n",
    "all_results, knn_best_model, knn_preds = fit_model(KNeighborsRegressor(), 'KNN', knn_params, all_results, knn_notes)\n"
   ]
  },
  {
   "cell_type": "code",
   "execution_count": null,
   "metadata": {},
   "outputs": [],
   "source": [
    "# set parameters\n",
    "lr_params = {\n",
    "    \n",
    "}\n",
    "\n",
    "lr_notes = 'Getting running'\n",
    "\n",
    "# call the fit_model function\n",
    "all_results, lr_best_model, lr_preds = fit_model(LinearRegression(), \n",
    "                                                 'Linear Reg', \n",
    "                                                 lr_params, \n",
    "                                                 all_results, \n",
    "                                                 lr_notes\n",
    "                                                )\n"
   ]
  },
  {
   "cell_type": "markdown",
   "metadata": {},
   "source": [
    "# Overall Results:"
   ]
  },
  {
   "cell_type": "code",
   "execution_count": 33,
   "metadata": {},
   "outputs": [
    {
     "data": {
      "text/html": [
       "<div>\n",
       "<style scoped>\n",
       "    .dataframe tbody tr th:only-of-type {\n",
       "        vertical-align: middle;\n",
       "    }\n",
       "\n",
       "    .dataframe tbody tr th {\n",
       "        vertical-align: top;\n",
       "    }\n",
       "\n",
       "    .dataframe thead th {\n",
       "        text-align: right;\n",
       "    }\n",
       "</style>\n",
       "<table border=\"1\" class=\"dataframe\">\n",
       "  <thead>\n",
       "    <tr style=\"text-align: right;\">\n",
       "      <th></th>\n",
       "      <th>Random Forest</th>\n",
       "      <th>SVM</th>\n",
       "      <th>Grad. Boost</th>\n",
       "      <th>Grad. Boost</th>\n",
       "      <th>Grad. Boost</th>\n",
       "      <th>KNN</th>\n",
       "    </tr>\n",
       "  </thead>\n",
       "  <tbody>\n",
       "    <tr>\n",
       "      <th>Test score</th>\n",
       "      <td>0.878</td>\n",
       "      <td>0.809</td>\n",
       "      <td>0.808</td>\n",
       "      <td>0.825</td>\n",
       "      <td>0.86</td>\n",
       "      <td>0.788</td>\n",
       "    </tr>\n",
       "    <tr>\n",
       "      <th>Train score</th>\n",
       "      <td>0.87</td>\n",
       "      <td>0.821</td>\n",
       "      <td>0.84</td>\n",
       "      <td>0.821</td>\n",
       "      <td>0.835</td>\n",
       "      <td>0.802</td>\n",
       "    </tr>\n",
       "  </tbody>\n",
       "</table>\n",
       "</div>"
      ],
      "text/plain": [
       "            Random Forest    SVM Grad. Boost Grad. Boost Grad. Boost    KNN\n",
       "Test score          0.878  0.809       0.808       0.825        0.86  0.788\n",
       "Train score          0.87  0.821        0.84       0.821       0.835  0.802"
      ]
     },
     "metadata": {},
     "output_type": "display_data"
    },
    {
     "data": {
      "text/html": [
       "<div>\n",
       "<style scoped>\n",
       "    .dataframe tbody tr th:only-of-type {\n",
       "        vertical-align: middle;\n",
       "    }\n",
       "\n",
       "    .dataframe tbody tr th {\n",
       "        vertical-align: top;\n",
       "    }\n",
       "\n",
       "    .dataframe thead th {\n",
       "        text-align: right;\n",
       "    }\n",
       "</style>\n",
       "<table border=\"1\" class=\"dataframe\">\n",
       "  <thead>\n",
       "    <tr style=\"text-align: right;\">\n",
       "      <th></th>\n",
       "      <th>Random Forest</th>\n",
       "      <th>SVM</th>\n",
       "      <th>Grad. Boost</th>\n",
       "      <th>Grad. Boost</th>\n",
       "      <th>Grad. Boost</th>\n",
       "      <th>KNN</th>\n",
       "    </tr>\n",
       "  </thead>\n",
       "  <tbody>\n",
       "    <tr>\n",
       "      <th>Best Params</th>\n",
       "      <td>{'bootstrap': True, 'max_depth': None, 'max_features': 'auto', 'max_leaf_nodes': None, 'min_samples_leaf': 2, 'min_samples_split': 7, 'n_estimators': 100}</td>\n",
       "      <td>{'C': 5, 'kernel': 'linear'}</td>\n",
       "      <td>{'learning_rate': 0.1, 'max_depth': None, 'max_features': 'auto', 'max_leaf_nodes': None, 'min_samples_leaf': 2, 'min_samples_split': 2, 'n_estimators': 150}</td>\n",
       "      <td>{'learning_rate': 0.25, 'max_depth': None, 'max_features': 'auto', 'max_leaf_nodes': None, 'min_samples_leaf': 2, 'min_samples_split': 2, 'n_estimators': 50}</td>\n",
       "      <td>{'learning_rate': 0.1, 'max_depth': None, 'max_features': 'auto', 'max_leaf_nodes': None, 'min_samples_leaf': 2, 'min_samples_split': 2, 'n_estimators': 125}</td>\n",
       "      <td>{'metric': 'minkowski', 'n_neighbors': 5, 'p': 1, 'weights': 'distance'}</td>\n",
       "    </tr>\n",
       "    <tr>\n",
       "      <th>Params Tried</th>\n",
       "      <td>{'n_estimators': [100], 'min_samples_split': [7], 'min_samples_leaf': [2], 'bootstrap': [True], 'max_depth': [None], 'max_leaf_nodes': [None], 'max_features': ['auto']}</td>\n",
       "      <td>{'kernel': ['linear', 'poly', 'rbf', 'sigmoid'], 'C': [0.5, 1, 1.5, 2, 3, 5]}</td>\n",
       "      <td>{'learning_rate': [0.005, 0.1, 0.15, 0.25, 0.5], 'n_estimators': [50, 75, 100, 125, 150], 'min_samples_split': [2], 'min_samples_leaf': [2], 'max_depth': [None], 'max_leaf_nodes': [None], 'max_features': ['auto']}</td>\n",
       "      <td>{'learning_rate': [0.005, 0.1, 0.15, 0.25, 0.5], 'n_estimators': [50, 75, 100, 125, 150], 'min_samples_split': [2], 'min_samples_leaf': [2], 'max_depth': [None], 'max_leaf_nodes': [None], 'max_features': ['auto']}</td>\n",
       "      <td>{'learning_rate': [0.005, 0.1, 0.15, 0.25, 0.5], 'n_estimators': [50, 75, 100, 125, 150], 'min_samples_split': [2], 'min_samples_leaf': [2], 'max_depth': [None], 'max_leaf_nodes': [None], 'max_features': ['auto']}</td>\n",
       "      <td>{'n_neighbors': [3, 4, 5, 10, 15, 20, 30, 40, 50], 'weights': ['uniform', 'distance'], 'metric': ['minkowski'], 'p': [1, 2, 3]}</td>\n",
       "    </tr>\n",
       "    <tr>\n",
       "      <th>Notes</th>\n",
       "      <td>Picked min_samples_leaf=1, bootstrap=True, n_estimators=100, min_samples_leaf=2</td>\n",
       "      <td>Beginning Tuning</td>\n",
       "      <td></td>\n",
       "      <td></td>\n",
       "      <td></td>\n",
       "      <td>Beginning Tuning</td>\n",
       "    </tr>\n",
       "  </tbody>\n",
       "</table>\n",
       "</div>"
      ],
      "text/plain": [
       "                                                                                                                                                                         Random Forest  \\\n",
       "Best Params                 {'bootstrap': True, 'max_depth': None, 'max_features': 'auto', 'max_leaf_nodes': None, 'min_samples_leaf': 2, 'min_samples_split': 7, 'n_estimators': 100}   \n",
       "Params Tried  {'n_estimators': [100], 'min_samples_split': [7], 'min_samples_leaf': [2], 'bootstrap': [True], 'max_depth': [None], 'max_leaf_nodes': [None], 'max_features': ['auto']}   \n",
       "Notes                                                                                                  Picked min_samples_leaf=1, bootstrap=True, n_estimators=100, min_samples_leaf=2   \n",
       "\n",
       "                                                                                        SVM  \\\n",
       "Best Params                                                    {'C': 5, 'kernel': 'linear'}   \n",
       "Params Tried  {'kernel': ['linear', 'poly', 'rbf', 'sigmoid'], 'C': [0.5, 1, 1.5, 2, 3, 5]}   \n",
       "Notes                                                                      Beginning Tuning   \n",
       "\n",
       "                                                                                                                                                                                                                        Grad. Boost  \\\n",
       "Best Params                                                           {'learning_rate': 0.1, 'max_depth': None, 'max_features': 'auto', 'max_leaf_nodes': None, 'min_samples_leaf': 2, 'min_samples_split': 2, 'n_estimators': 150}   \n",
       "Params Tried  {'learning_rate': [0.005, 0.1, 0.15, 0.25, 0.5], 'n_estimators': [50, 75, 100, 125, 150], 'min_samples_split': [2], 'min_samples_leaf': [2], 'max_depth': [None], 'max_leaf_nodes': [None], 'max_features': ['auto']}   \n",
       "Notes                                                                                                                                                                                                                                 \n",
       "\n",
       "                                                                                                                                                                                                                        Grad. Boost  \\\n",
       "Best Params                                                           {'learning_rate': 0.25, 'max_depth': None, 'max_features': 'auto', 'max_leaf_nodes': None, 'min_samples_leaf': 2, 'min_samples_split': 2, 'n_estimators': 50}   \n",
       "Params Tried  {'learning_rate': [0.005, 0.1, 0.15, 0.25, 0.5], 'n_estimators': [50, 75, 100, 125, 150], 'min_samples_split': [2], 'min_samples_leaf': [2], 'max_depth': [None], 'max_leaf_nodes': [None], 'max_features': ['auto']}   \n",
       "Notes                                                                                                                                                                                                                                 \n",
       "\n",
       "                                                                                                                                                                                                                        Grad. Boost  \\\n",
       "Best Params                                                           {'learning_rate': 0.1, 'max_depth': None, 'max_features': 'auto', 'max_leaf_nodes': None, 'min_samples_leaf': 2, 'min_samples_split': 2, 'n_estimators': 125}   \n",
       "Params Tried  {'learning_rate': [0.005, 0.1, 0.15, 0.25, 0.5], 'n_estimators': [50, 75, 100, 125, 150], 'min_samples_split': [2], 'min_samples_leaf': [2], 'max_depth': [None], 'max_leaf_nodes': [None], 'max_features': ['auto']}   \n",
       "Notes                                                                                                                                                                                                                                 \n",
       "\n",
       "                                                                                                                                          KNN  \n",
       "Best Params                                                          {'metric': 'minkowski', 'n_neighbors': 5, 'p': 1, 'weights': 'distance'}  \n",
       "Params Tried  {'n_neighbors': [3, 4, 5, 10, 15, 20, 30, 40, 50], 'weights': ['uniform', 'distance'], 'metric': ['minkowski'], 'p': [1, 2, 3]}  \n",
       "Notes                                                                                                                        Beginning Tuning  "
      ]
     },
     "metadata": {},
     "output_type": "display_data"
    }
   ],
   "source": [
    "# all_results['Overall Average Score'] = round(all_results.mean(axis=1), 3)\n",
    "\n",
    "display(all_results.head(2))\n",
    "display(all_results.tail(3))"
   ]
  },
  {
   "cell_type": "markdown",
   "metadata": {},
   "source": [
    "# Make submission file:"
   ]
  },
  {
   "cell_type": "code",
   "execution_count": null,
   "metadata": {},
   "outputs": [],
   "source": [
    "# test['SalePrice'] = rf_best_model.predict(test_scaled_df)\n",
    "# test[['Id', 'SalePrice']].sort_values(by='Id').to_csv('submissions.csv',index=False)"
   ]
  },
  {
   "cell_type": "markdown",
   "metadata": {},
   "source": [
    "## Kaggle Submission Link:\n",
    "\n",
    "https://www.kaggle.com/c/dsi-us-5-project-2-regression-challenge"
   ]
  }
 ],
 "metadata": {
  "kernelspec": {
   "display_name": "Python 3",
   "language": "python",
   "name": "python3"
  },
  "language_info": {
   "codemirror_mode": {
    "name": "ipython",
    "version": 3
   },
   "file_extension": ".py",
   "mimetype": "text/x-python",
   "name": "python",
   "nbconvert_exporter": "python",
   "pygments_lexer": "ipython3",
   "version": "3.6.6"
  }
 },
 "nbformat": 4,
 "nbformat_minor": 2
}
