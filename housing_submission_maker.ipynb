{
 "cells": [
  {
   "cell_type": "markdown",
   "metadata": {},
   "source": [
    "# Housing Sale Price Predictions"
   ]
  },
  {
   "cell_type": "markdown",
   "metadata": {},
   "source": [
    "### Imports:"
   ]
  },
  {
   "cell_type": "code",
   "execution_count": 1,
   "metadata": {},
   "outputs": [],
   "source": [
    "import pandas as pd\n",
    "import numpy as np\n",
    "import matplotlib.pyplot as plt\n",
    "import seaborn as sns\n",
    "import time\n",
    "\n",
    "from sklearn.preprocessing import PolynomialFeatures\n",
    "from sklearn.model_selection import train_test_split, KFold, cross_val_score, GridSearchCV\n",
    "from sklearn.linear_model import Ridge, LinearRegression, RidgeCV, LassoCV, ElasticNetCV, Lasso, ElasticNet\n",
    "from sklearn.metrics import r2_score\n",
    "from sklearn.preprocessing import StandardScaler\n",
    "from sklearn.feature_selection import f_regression, SelectKBest, RFE, RFECV\n",
    "\n",
    "from sklearn.ensemble import RandomForestRegressor, AdaBoostRegressor, GradientBoostingRegressor, ExtraTreesRegressor\n",
    "from sklearn.neighbors import KNeighborsRegressor\n",
    "# from sklearn.naive_bayes import GaussianNB, MultinomialNB\n",
    "from sklearn import svm\n",
    "\n",
    "from itertools import combinations\n",
    "\n",
    "%matplotlib inline"
   ]
  },
  {
   "cell_type": "markdown",
   "metadata": {},
   "source": [
    "### Load the Data:"
   ]
  },
  {
   "cell_type": "code",
   "execution_count": 2,
   "metadata": {},
   "outputs": [],
   "source": [
    "train = pd.read_csv('train.csv')\n",
    "test = pd.read_csv('test.csv')"
   ]
  },
  {
   "cell_type": "markdown",
   "metadata": {},
   "source": [
    "# Data Cleaning:"
   ]
  },
  {
   "cell_type": "code",
   "execution_count": 3,
   "metadata": {},
   "outputs": [],
   "source": [
    "# Columns I'm dropping becaus they contain the same value for more than about 90% of the data\n",
    "initial_drop_list = ['Id', 'PID', 'Alley', 'Street', 'Land Contour', 'Utilities', 'Mas Vnr Area',\n",
    "                    'Land Slope', 'Condition 2', 'Roof Matl', 'Electrical', 'Functional', 'Paved Drive',\n",
    "                    'Fence', 'Misc Feature', 'Misc Val', 'Sale Type', 'Garage Cond', 'Garage Qual', 'Kitchen AbvGr',\n",
    "                    'Pool QC', 'Pool Area', 'Low Qual Fin SF', 'Screen Porch', '3Ssn Porch', 'Enclosed Porch',\n",
    "                    'Open Porch SF', 'Wood Deck SF', 'Garage Yr Blt', '2nd Flr SF', 'Central Air',\n",
    "                    'Heating', 'BsmtFin SF 2', 'BsmtFin Type 2', 'Bsmt Cond', 'Fireplace Qu']\n",
    "\n",
    "# Things I'm dropping to reduce multicollinearity with predictors I think are more important\n",
    "also_drop = ['Mas Vnr Type', 'Bsmt Exposure', 'Garage Area', 'Exterior 1st', 'Exterior 2nd', 'BsmtFin SF 1',\n",
    "             'Bsmt Unf SF', 'Total Bsmt SF', 'BsmtFin Type 1']\n",
    "\n",
    "# Add the two lists together\n",
    "initial_drop_list = initial_drop_list + also_drop\n",
    "\n",
    "# Make a new df by dropping all these columns\n",
    "df = train.drop(initial_drop_list, axis = 1)\n",
    "test_df = test.drop(initial_drop_list, axis = 1)\n",
    "\n",
    "# also drop 'SalePrice' because it is the target\n",
    "df.drop('SalePrice', axis = 1, inplace =True)"
   ]
  },
  {
   "cell_type": "markdown",
   "metadata": {},
   "source": [
    "### Remove Null Values:"
   ]
  },
  {
   "cell_type": "code",
   "execution_count": 4,
   "metadata": {},
   "outputs": [],
   "source": [
    "# After looking at the Nan observations, these Nan values are actually supposed to be 0 or 'None'\n",
    "nan_0_cols = ['Lot Frontage', 'Bsmt Full Bath', 'Bsmt Half Bath', 'Garage Cars']\n",
    "\n",
    "nan_none_cols = ['Bsmt Qual', 'Garage Type', 'Garage Finish']\n",
    "\n",
    "df[nan_0_cols] = df[nan_0_cols].fillna(value = 0)\n",
    "test_df[nan_0_cols] = test_df[nan_0_cols].fillna(value = 0)\n",
    "\n",
    "df[nan_none_cols] = df[nan_none_cols].fillna(value = 'None')\n",
    "test_df[nan_none_cols] = test_df[nan_none_cols].fillna(value = 'None')"
   ]
  },
  {
   "cell_type": "markdown",
   "metadata": {},
   "source": [
    "# Feature Engineering:"
   ]
  },
  {
   "cell_type": "markdown",
   "metadata": {},
   "source": [
    "### Calculate Age:"
   ]
  },
  {
   "cell_type": "code",
   "execution_count": 5,
   "metadata": {},
   "outputs": [],
   "source": [
    "# Calculate age of building and drop 'Year Built'\n",
    "df['Age'] = df['Yr Sold'] - df['Year Built']\n",
    "df.drop(columns=['Year Built'], axis = 1, inplace=True)\n",
    "\n",
    "test_df['Age'] = test_df['Yr Sold'] - test_df['Year Built']\n",
    "test_df.drop(columns=['Year Built'], axis = 1, inplace=True)"
   ]
  },
  {
   "cell_type": "markdown",
   "metadata": {},
   "source": [
    "### Total Baths:"
   ]
  },
  {
   "cell_type": "code",
   "execution_count": 6,
   "metadata": {},
   "outputs": [],
   "source": [
    "# Calculate total baths and drop the columns its derived from\n",
    "df['Total Baths'] = df['Full Bath'] + df['Half Bath']/2 + df['Bsmt Full Bath'] + df['Bsmt Half Bath']/2\n",
    "df.drop(columns=['Half Bath', 'Full Bath', 'Bsmt Half Bath', 'Bsmt Full Bath'], axis = 1, inplace=True)\n",
    "\n",
    "test_df['Total Baths'] = test_df['Full Bath'] + test_df['Half Bath']/2 + test_df['Bsmt Full Bath'] + test_df['Bsmt Half Bath']/2\n",
    "test_df.drop(columns=['Half Bath', 'Full Bath', 'Bsmt Half Bath', 'Bsmt Full Bath'], axis = 1, inplace=True)"
   ]
  },
  {
   "cell_type": "markdown",
   "metadata": {},
   "source": [
    "### Calculate number of months since start of first sale year:"
   ]
  },
  {
   "cell_type": "code",
   "execution_count": 7,
   "metadata": {},
   "outputs": [],
   "source": [
    "# Calculate number of months since start of first sale year\n",
    "df['Mo Sold After 1/1/2006'] = (df['Yr Sold'] - 2006) * 12 + df['Mo Sold']\n",
    "df.drop(columns=['Mo Sold'], axis = 1, inplace=True)\n",
    "\n",
    "test_df['Mo Sold After 1/1/2006'] = (test_df['Yr Sold'] - 2006) * 12 + test_df['Mo Sold']\n",
    "test_df.drop(columns=['Mo Sold'], axis = 1, inplace=True)"
   ]
  },
  {
   "cell_type": "markdown",
   "metadata": {},
   "source": [
    "### Change remodel year to years since remodel:\n",
    "The data will show age built if there was no remodel"
   ]
  },
  {
   "cell_type": "code",
   "execution_count": 8,
   "metadata": {},
   "outputs": [],
   "source": [
    "# change remodel year to years since remodel, the data will show age built if there was no remodel\n",
    "df['Yrs since Remodel'] = df['Yr Sold'] - df['Year Remod/Add']\n",
    "df.drop(columns=['Yr Sold', 'Year Remod/Add'], axis = 1, inplace=True)\n",
    "\n",
    "test_df['Yrs since Remodel'] = test_df['Yr Sold'] - test_df['Year Remod/Add']\n",
    "test_df.drop(columns=['Yr Sold', 'Year Remod/Add'], axis = 1, inplace=True)"
   ]
  },
  {
   "cell_type": "markdown",
   "metadata": {},
   "source": [
    "### Calculate non-bdrm rooms abvgrd from bedrooms and rooms to reduce structural multicollinearity"
   ]
  },
  {
   "cell_type": "code",
   "execution_count": 9,
   "metadata": {},
   "outputs": [],
   "source": [
    "# calculate non-bdrm rooms abvgrd from bedrooms and rooms to reduce structural multicollinearity\n",
    "df['Non-bdrm Rooms AbvGrd'] = df['TotRms AbvGrd'] - df['Bedroom AbvGr']\n",
    "df.drop(columns=['TotRms AbvGrd'], axis = 1, inplace=True)\n",
    "\n",
    "test_df['Non-bdrm Rooms AbvGrd'] = test_df['TotRms AbvGrd'] - test_df['Bedroom AbvGr']\n",
    "test_df.drop(columns=['TotRms AbvGrd'], axis = 1, inplace=True)"
   ]
  },
  {
   "cell_type": "markdown",
   "metadata": {},
   "source": [
    "### Make Dummy Categorical Features:"
   ]
  },
  {
   "cell_type": "code",
   "execution_count": 10,
   "metadata": {},
   "outputs": [],
   "source": [
    "# which columns need dummies?\n",
    "\n",
    "all_pre_dummy_features = list(df.columns)\n",
    "\n",
    "obj_dummies = list(df.select_dtypes(include=['object']).columns)  # find all columns with object dtypes\n",
    "extra_dummies = ['MS SubClass', 'Overall Qual', 'Overall Cond']    # these are numeric columns that need dummy variables\n",
    "\n",
    "df[extra_dummies] = df[extra_dummies].astype('str')\n",
    "need_dummies = obj_dummies + extra_dummies\n",
    "\n",
    "# make a list of the columns that aren't dummies\n",
    "not_dummies = [x for x in df.columns if x not in need_dummies]\n",
    "\n",
    "#make a list of dummies that you want to look at interactions of and remove from need_dummies\n",
    "look_at_interact = ['Neighborhood', 'Overall Qual', 'Overall Cond']\n",
    "need_dummies = [item for item in need_dummies if item not in look_at_interact]"
   ]
  },
  {
   "cell_type": "code",
   "execution_count": 11,
   "metadata": {},
   "outputs": [],
   "source": [
    "# Make the dummy variables as a seperate df\n",
    "dummy_df = pd.get_dummies(df[need_dummies], columns = need_dummies, drop_first=True)\n",
    "\n",
    "dummy_test_df = pd.get_dummies(test_df[need_dummies], columns = need_dummies, drop_first=True)"
   ]
  },
  {
   "cell_type": "code",
   "execution_count": 12,
   "metadata": {},
   "outputs": [],
   "source": [
    "# update df with dummy variables of look_at_interact list\n",
    "pre_interact_df = pd.get_dummies(df[(not_dummies + look_at_interact)], columns = look_at_interact, drop_first=True)\n",
    "\n",
    "test_pre_interact_df = pd.get_dummies(test_df[(not_dummies + look_at_interact)], columns = look_at_interact, drop_first=True)\n",
    "\n",
    "add_interact_dummies = ['Neighborhood_GrnHill', 'Neighborhood_Landmrk', 'Overall Qual_2']\n",
    "\n",
    "# make new dummy columns in test set and set them to 0\n",
    "for col_name in add_interact_dummies:\n",
    "    test_pre_interact_df[col_name] = 0"
   ]
  },
  {
   "cell_type": "markdown",
   "metadata": {},
   "source": [
    "# Polynomial Interaction Features:"
   ]
  },
  {
   "cell_type": "code",
   "execution_count": 13,
   "metadata": {},
   "outputs": [],
   "source": [
    "# make interaction terms\n",
    "pf = PolynomialFeatures(include_bias = False)\n",
    "poly_df = pf.fit_transform(pre_interact_df)\n",
    "column_names = pf.get_feature_names(pre_interact_df.columns)\n",
    "poly_df = pd.DataFrame(poly_df, columns = column_names)\n",
    "\n",
    "# do the same thing for the test set\n",
    "pf = PolynomialFeatures(include_bias = False)\n",
    "test_poly_df = pf.fit_transform(test_pre_interact_df)\n",
    "test_poly_df = pd.DataFrame(test_poly_df, columns = column_names)"
   ]
  },
  {
   "cell_type": "markdown",
   "metadata": {},
   "source": [
    "# Scaling:"
   ]
  },
  {
   "cell_type": "code",
   "execution_count": 14,
   "metadata": {},
   "outputs": [],
   "source": [
    "# Scaling\n",
    "ss = StandardScaler()\n",
    "\n",
    "scaled_df = ss.fit_transform(poly_df)\n",
    "scaled_df = pd.DataFrame(scaled_df, columns=poly_df.columns)\n",
    "\n",
    "test_scaled_df = ss.transform(test_poly_df)\n",
    "test_scaled_df = pd.DataFrame(test_scaled_df, columns=test_poly_df.columns)"
   ]
  },
  {
   "cell_type": "code",
   "execution_count": 15,
   "metadata": {},
   "outputs": [],
   "source": [
    "#add the dummies to the scaled dfs\n",
    "scaled_df = pd.concat([scaled_df, dummy_df], axis = 1)\n",
    "test_scaled_df = pd.concat([test_scaled_df, dummy_test_df], axis = 1)"
   ]
  },
  {
   "cell_type": "code",
   "execution_count": 16,
   "metadata": {},
   "outputs": [],
   "source": [
    "# make a list of the dummy columns from training set not in test set\n",
    "add_dummies = ['MS Zoning_C (all)', 'Heating QC_Po', 'MS SubClass_150', 'MS SubClass_20']\n",
    "\n",
    "# make new dummy columns in test set and set them to 0\n",
    "for col_name in add_dummies:\n",
    "    test_scaled_df[col_name] = 0"
   ]
  },
  {
   "cell_type": "markdown",
   "metadata": {},
   "source": [
    " # Select Features:"
   ]
  },
  {
   "cell_type": "code",
   "execution_count": 17,
   "metadata": {},
   "outputs": [],
   "source": [
    "# get features list from training data, except 'SalePrice'\n",
    "all_features = list(scaled_df.columns)\n",
    "features = all_features\n",
    "features.remove('Gr Liv Area Garage Cars')"
   ]
  },
  {
   "cell_type": "code",
   "execution_count": 18,
   "metadata": {},
   "outputs": [],
   "source": [
    "# make sure test_scaled_df has the same features as scaled_df\n",
    "test_scaled_df = test_scaled_df[features]"
   ]
  },
  {
   "cell_type": "code",
   "execution_count": 19,
   "metadata": {},
   "outputs": [],
   "source": [
    "# Create X predictor matrix and target\n",
    "X = scaled_df[features]\n",
    "y = train['SalePrice']"
   ]
  },
  {
   "cell_type": "markdown",
   "metadata": {},
   "source": [
    "# Modeling Function: \n",
    "---"
   ]
  },
  {
   "cell_type": "markdown",
   "metadata": {},
   "source": [
    "The following are necessary to save the results:"
   ]
  },
  {
   "cell_type": "code",
   "execution_count": 20,
   "metadata": {},
   "outputs": [],
   "source": [
    "index_labels = ['Test score','Train score', 'Best Params', 'Params Tried', 'Notes'] # 'Sensitivity', 'Specificity', 'Precision'\n",
    "\n",
    "all_results = pd.DataFrame(index=index_labels)\n",
    "# all_params = pd.DataFrame(columns = ['Parameters'])\n",
    "\n",
    "# set dataframe options to display long strings rather than truncating them\n",
    "pd.set_option('display.max_colwidth', 10000)"
   ]
  },
  {
   "cell_type": "code",
   "execution_count": 21,
   "metadata": {},
   "outputs": [],
   "source": [
    "def fit_model(model, model_name, params, all_results, notes):\n",
    "    start_time = time.time() # watch the clock\n",
    "\n",
    "    # train-test-split the training data\n",
    "    X_train, X_holdout, y_train, y_holdout = train_test_split(X, y, test_size = .3, random_state=None)\n",
    "    \n",
    "    # fit the model\n",
    "    model = GridSearchCV(model, params, n_jobs=-1, cv = 3)\n",
    "    model.fit(X_train, y_train)\n",
    "    \n",
    "    # pick out the best model\n",
    "    best_model = model.best_estimator_\n",
    "    \n",
    "    # make predictions\n",
    "    pred = best_model.predict(X_holdout)\n",
    "    \n",
    "    # Calculate results\n",
    "    index_labels = ['Test score', 'Train score', 'Best Params', 'Params Tried', 'Notes'] # 'Sensitivity', 'Specificity', 'Precision'\n",
    "    result = pd.DataFrame(index = index_labels, columns=[model_name])\n",
    "    result.loc['Test score'][model_name] = round(best_model.score(X_holdout, y_holdout), 3)\n",
    "    result.loc['Train score'][model_name] = round(model.best_score_, 3)\n",
    "    result.loc['Best Params'][model_name] = model.best_params_\n",
    "    result.loc['Params Tried'][model_name] = params\n",
    "    result.loc['Notes'][model_name] = notes\n",
    "\n",
    "    display(result.head(2)) # display test results\n",
    "    display(result.tail(3)) # display parameters and notes\n",
    "\n",
    "    # add results and params to all_results and all_params\n",
    "    all_results = pd.concat([all_results, result], axis=1)\n",
    "    \n",
    "    # plot actual vs. predicted\n",
    "    fig, ax = plt.subplots(figsize=(8,6))\n",
    "    plt.scatter(y_holdout, pred)\n",
    "    ax.set_xlabel('True Values', size = 20)\n",
    "    ax.set_ylabel('Predictions', size = 20)\n",
    "    plt.title('Predictions vs. Actual', size = 20)\n",
    "    ax.grid()\n",
    "    plt.plot([0, 600000], [0, 600000], 'k--', lw=3)\n",
    "    \n",
    "    # print the runtime\n",
    "    end_time = time.time()\n",
    "    print('Runtime: ', round((end_time - start_time)/60, 3), ' minutes')\n",
    "    \n",
    "    return all_results, best_model, pred # all_params"
   ]
  },
  {
   "cell_type": "markdown",
   "metadata": {},
   "source": [
    "# Model Mania!!!"
   ]
  },
  {
   "cell_type": "markdown",
   "metadata": {},
   "source": [
    "### Random Forest"
   ]
  },
  {
   "cell_type": "code",
   "execution_count": 22,
   "metadata": {},
   "outputs": [
    {
     "data": {
      "text/html": [
       "<div>\n",
       "<style scoped>\n",
       "    .dataframe tbody tr th:only-of-type {\n",
       "        vertical-align: middle;\n",
       "    }\n",
       "\n",
       "    .dataframe tbody tr th {\n",
       "        vertical-align: top;\n",
       "    }\n",
       "\n",
       "    .dataframe thead th {\n",
       "        text-align: right;\n",
       "    }\n",
       "</style>\n",
       "<table border=\"1\" class=\"dataframe\">\n",
       "  <thead>\n",
       "    <tr style=\"text-align: right;\">\n",
       "      <th></th>\n",
       "      <th>Random Forest</th>\n",
       "    </tr>\n",
       "  </thead>\n",
       "  <tbody>\n",
       "    <tr>\n",
       "      <th>Test score</th>\n",
       "      <td>0.853</td>\n",
       "    </tr>\n",
       "    <tr>\n",
       "      <th>Train score</th>\n",
       "      <td>0.863</td>\n",
       "    </tr>\n",
       "  </tbody>\n",
       "</table>\n",
       "</div>"
      ],
      "text/plain": [
       "            Random Forest\n",
       "Test score          0.853\n",
       "Train score         0.863"
      ]
     },
     "metadata": {},
     "output_type": "display_data"
    },
    {
     "data": {
      "text/html": [
       "<div>\n",
       "<style scoped>\n",
       "    .dataframe tbody tr th:only-of-type {\n",
       "        vertical-align: middle;\n",
       "    }\n",
       "\n",
       "    .dataframe tbody tr th {\n",
       "        vertical-align: top;\n",
       "    }\n",
       "\n",
       "    .dataframe thead th {\n",
       "        text-align: right;\n",
       "    }\n",
       "</style>\n",
       "<table border=\"1\" class=\"dataframe\">\n",
       "  <thead>\n",
       "    <tr style=\"text-align: right;\">\n",
       "      <th></th>\n",
       "      <th>Random Forest</th>\n",
       "    </tr>\n",
       "  </thead>\n",
       "  <tbody>\n",
       "    <tr>\n",
       "      <th>Best Params</th>\n",
       "      <td>{'bootstrap': True, 'max_depth': None, 'max_features': 'auto', 'max_leaf_nodes': None, 'min_samples_leaf': 2, 'min_samples_split': 7, 'n_estimators': 100}</td>\n",
       "    </tr>\n",
       "    <tr>\n",
       "      <th>Params Tried</th>\n",
       "      <td>{'n_estimators': [100], 'min_samples_split': [7], 'min_samples_leaf': [2], 'bootstrap': [True], 'max_depth': [None], 'max_leaf_nodes': [None], 'max_features': ['auto']}</td>\n",
       "    </tr>\n",
       "    <tr>\n",
       "      <th>Notes</th>\n",
       "      <td>Picked min_samples_leaf=1, bootstrap=True, n_estimators=100, min_samples_leaf=2</td>\n",
       "    </tr>\n",
       "  </tbody>\n",
       "</table>\n",
       "</div>"
      ],
      "text/plain": [
       "                                                                                                                                                                         Random Forest\n",
       "Best Params                 {'bootstrap': True, 'max_depth': None, 'max_features': 'auto', 'max_leaf_nodes': None, 'min_samples_leaf': 2, 'min_samples_split': 7, 'n_estimators': 100}\n",
       "Params Tried  {'n_estimators': [100], 'min_samples_split': [7], 'min_samples_leaf': [2], 'bootstrap': [True], 'max_depth': [None], 'max_leaf_nodes': [None], 'max_features': ['auto']}\n",
       "Notes                                                                                                  Picked min_samples_leaf=1, bootstrap=True, n_estimators=100, min_samples_leaf=2"
      ]
     },
     "metadata": {},
     "output_type": "display_data"
    },
    {
     "name": "stdout",
     "output_type": "stream",
     "text": [
      "Runtime:  0.619  minutes\n"
     ]
    },
    {
     "data": {
      "text/plain": [
       "<matplotlib.axes._subplots.AxesSubplot at 0x1a12c0a2e8>"
      ]
     },
     "execution_count": 22,
     "metadata": {},
     "output_type": "execute_result"
    },
    {
     "data": {
      "image/png": "[encoded data removed]",
      "text/plain": [
       "<Figure size 576x432 with 1 Axes>"
      ]
     },
     "metadata": {
      "needs_background": "light"
     },
     "output_type": "display_data"
    },
    {
     "data": {
      "image/png": "[encoded data removed]",
      "text/plain": [
       "<Figure size 432x288 with 1 Axes>"
      ]
     },
     "metadata": {
      "needs_background": "light"
     },
     "output_type": "display_data"
    }
   ],
   "source": [
    "# set parameters\n",
    "rf_params = {\n",
    "            'n_estimators': [100],\n",
    "            'min_samples_split': [7],\n",
    "            'min_samples_leaf': [2],\n",
    "            'bootstrap': [True],\n",
    "            'max_depth':[None],\n",
    "            'max_leaf_nodes': [None],\n",
    "            'max_features': ['auto'], # max_feat_to_check\n",
    "}\n",
    "\n",
    "rf_notes = 'Picked min_samples_leaf=1, bootstrap=True, n_estimators=100, min_samples_leaf=2'\n",
    "\n",
    "# call the fit_model function\n",
    "all_results, rf_best_model, rf_preds = fit_model(RandomForestRegressor(), \n",
    "                                                 'Random Forest', \n",
    "                                                 rf_params, \n",
    "                                                 all_results, \n",
    "                                                 rf_notes\n",
    "                                                )\n",
    "\n",
    "# Top features\n",
    "feat_importance = pd.DataFrame(rf_best_model.feature_importances_, index=all_features).sort_values(by=0, ascending=False)\n",
    "feat_importance.head(15).plot(kind='barh')\n"
   ]
  },
  {
   "cell_type": "code",
   "execution_count": 23,
   "metadata": {},
   "outputs": [
    {
     "data": {
      "text/html": [
       "<div>\n",
       "<style scoped>\n",
       "    .dataframe tbody tr th:only-of-type {\n",
       "        vertical-align: middle;\n",
       "    }\n",
       "\n",
       "    .dataframe tbody tr th {\n",
       "        vertical-align: top;\n",
       "    }\n",
       "\n",
       "    .dataframe thead th {\n",
       "        text-align: right;\n",
       "    }\n",
       "</style>\n",
       "<table border=\"1\" class=\"dataframe\">\n",
       "  <thead>\n",
       "    <tr style=\"text-align: right;\">\n",
       "      <th></th>\n",
       "      <th>SVM</th>\n",
       "    </tr>\n",
       "  </thead>\n",
       "  <tbody>\n",
       "    <tr>\n",
       "      <th>Test score</th>\n",
       "      <td>0.883</td>\n",
       "    </tr>\n",
       "    <tr>\n",
       "      <th>Train score</th>\n",
       "      <td>0.829</td>\n",
       "    </tr>\n",
       "  </tbody>\n",
       "</table>\n",
       "</div>"
      ],
      "text/plain": [
       "               SVM\n",
       "Test score   0.883\n",
       "Train score  0.829"
      ]
     },
     "metadata": {},
     "output_type": "display_data"
    },
    {
     "data": {
      "text/html": [
       "<div>\n",
       "<style scoped>\n",
       "    .dataframe tbody tr th:only-of-type {\n",
       "        vertical-align: middle;\n",
       "    }\n",
       "\n",
       "    .dataframe tbody tr th {\n",
       "        vertical-align: top;\n",
       "    }\n",
       "\n",
       "    .dataframe thead th {\n",
       "        text-align: right;\n",
       "    }\n",
       "</style>\n",
       "<table border=\"1\" class=\"dataframe\">\n",
       "  <thead>\n",
       "    <tr style=\"text-align: right;\">\n",
       "      <th></th>\n",
       "      <th>SVM</th>\n",
       "    </tr>\n",
       "  </thead>\n",
       "  <tbody>\n",
       "    <tr>\n",
       "      <th>Best Params</th>\n",
       "      <td>{'C': 10, 'kernel': 'linear'}</td>\n",
       "    </tr>\n",
       "    <tr>\n",
       "      <th>Params Tried</th>\n",
       "      <td>{'kernel': ['linear', 'poly', 'rbf', 'sigmoid'], 'C': [0.5, 1, 3, 4, 5, 10]}</td>\n",
       "    </tr>\n",
       "    <tr>\n",
       "      <th>Notes</th>\n",
       "      <td>Beginning Tuning</td>\n",
       "    </tr>\n",
       "  </tbody>\n",
       "</table>\n",
       "</div>"
      ],
      "text/plain": [
       "                                                                                       SVM\n",
       "Best Params                                                  {'C': 10, 'kernel': 'linear'}\n",
       "Params Tried  {'kernel': ['linear', 'poly', 'rbf', 'sigmoid'], 'C': [0.5, 1, 3, 4, 5, 10]}\n",
       "Notes                                                                     Beginning Tuning"
      ]
     },
     "metadata": {},
     "output_type": "display_data"
    },
    {
     "name": "stdout",
     "output_type": "stream",
     "text": [
      "Runtime:  4.657  minutes\n"
     ]
    },
    {
     "data": {
      "image/png": "[encoded data removed]",
      "text/plain": [
       "<Figure size 576x432 with 1 Axes>"
      ]
     },
     "metadata": {
      "needs_background": "light"
     },
     "output_type": "display_data"
    }
   ],
   "source": [
    "# set parameters\n",
    "svm_params = {\n",
    "    'kernel' : ['linear', 'poly', 'rbf', 'sigmoid'], # 'precomputed'\n",
    "    'C' : [.5, 1, 3, 4, 5, 10]\n",
    "}\n",
    "\n",
    "svm_notes = 'Beginning Tuning'\n",
    "\n",
    "# call the fit_model function\n",
    "all_results, svm_best_model, svm_preds = fit_model(svm.SVR(), 'SVM', svm_params, all_results, svm_notes)\n"
   ]
  },
  {
   "cell_type": "code",
   "execution_count": 24,
   "metadata": {},
   "outputs": [
    {
     "data": {
      "text/html": [
       "<div>\n",
       "<style scoped>\n",
       "    .dataframe tbody tr th:only-of-type {\n",
       "        vertical-align: middle;\n",
       "    }\n",
       "\n",
       "    .dataframe tbody tr th {\n",
       "        vertical-align: top;\n",
       "    }\n",
       "\n",
       "    .dataframe thead th {\n",
       "        text-align: right;\n",
       "    }\n",
       "</style>\n",
       "<table border=\"1\" class=\"dataframe\">\n",
       "  <thead>\n",
       "    <tr style=\"text-align: right;\">\n",
       "      <th></th>\n",
       "      <th>Grad. Boost</th>\n",
       "    </tr>\n",
       "  </thead>\n",
       "  <tbody>\n",
       "    <tr>\n",
       "      <th>Test score</th>\n",
       "      <td>0.83</td>\n",
       "    </tr>\n",
       "    <tr>\n",
       "      <th>Train score</th>\n",
       "      <td>0.843</td>\n",
       "    </tr>\n",
       "  </tbody>\n",
       "</table>\n",
       "</div>"
      ],
      "text/plain": [
       "            Grad. Boost\n",
       "Test score         0.83\n",
       "Train score       0.843"
      ]
     },
     "metadata": {},
     "output_type": "display_data"
    },
    {
     "data": {
      "text/html": [
       "<div>\n",
       "<style scoped>\n",
       "    .dataframe tbody tr th:only-of-type {\n",
       "        vertical-align: middle;\n",
       "    }\n",
       "\n",
       "    .dataframe tbody tr th {\n",
       "        vertical-align: top;\n",
       "    }\n",
       "\n",
       "    .dataframe thead th {\n",
       "        text-align: right;\n",
       "    }\n",
       "</style>\n",
       "<table border=\"1\" class=\"dataframe\">\n",
       "  <thead>\n",
       "    <tr style=\"text-align: right;\">\n",
       "      <th></th>\n",
       "      <th>Grad. Boost</th>\n",
       "    </tr>\n",
       "  </thead>\n",
       "  <tbody>\n",
       "    <tr>\n",
       "      <th>Best Params</th>\n",
       "      <td>{'learning_rate': 0.1, 'max_depth': None, 'max_features': 'auto', 'max_leaf_nodes': None, 'min_samples_leaf': 2, 'min_samples_split': 2, 'n_estimators': 125}</td>\n",
       "    </tr>\n",
       "    <tr>\n",
       "      <th>Params Tried</th>\n",
       "      <td>{'learning_rate': [0.0075, 0.1, 0.125], 'n_estimators': [110, 125, 140], 'min_samples_split': [2], 'min_samples_leaf': [2], 'max_depth': [None], 'max_leaf_nodes': [None], 'max_features': ['auto']}</td>\n",
       "    </tr>\n",
       "    <tr>\n",
       "      <th>Notes</th>\n",
       "      <td></td>\n",
       "    </tr>\n",
       "  </tbody>\n",
       "</table>\n",
       "</div>"
      ],
      "text/plain": [
       "                                                                                                                                                                                                       Grad. Boost\n",
       "Best Params                                          {'learning_rate': 0.1, 'max_depth': None, 'max_features': 'auto', 'max_leaf_nodes': None, 'min_samples_leaf': 2, 'min_samples_split': 2, 'n_estimators': 125}\n",
       "Params Tried  {'learning_rate': [0.0075, 0.1, 0.125], 'n_estimators': [110, 125, 140], 'min_samples_split': [2], 'min_samples_leaf': [2], 'max_depth': [None], 'max_leaf_nodes': [None], 'max_features': ['auto']}\n",
       "Notes                                                                                                                                                                                                             "
      ]
     },
     "metadata": {},
     "output_type": "display_data"
    },
    {
     "name": "stdout",
     "output_type": "stream",
     "text": [
      "Runtime:  19.032  minutes\n"
     ]
    },
    {
     "data": {
      "text/plain": [
       "<matplotlib.axes._subplots.AxesSubplot at 0x1a2a29a390>"
      ]
     },
     "execution_count": 24,
     "metadata": {},
     "output_type": "execute_result"
    },
    {
     "data": {
      "image/png": "[encoded data removed]",
      "text/plain": [
       "<Figure size 576x432 with 1 Axes>"
      ]
     },
     "metadata": {
      "needs_background": "light"
     },
     "output_type": "display_data"
    },
    {
     "data": {
      "image/png": "[encoded data removed]",
      "text/plain": [
       "<Figure size 432x288 with 1 Axes>"
      ]
     },
     "metadata": {
      "needs_background": "light"
     },
     "output_type": "display_data"
    }
   ],
   "source": [
    "# set parameters\n",
    "gb_params = {\n",
    "            'learning_rate' : [.0075, 0.1, .125,],\n",
    "            'n_estimators': [110, 125, 140],\n",
    "            'min_samples_split': [2],\n",
    "            'min_samples_leaf': [2],\n",
    "#             'bootstrap': [True, False],\n",
    "            'max_depth':[None],\n",
    "            'max_leaf_nodes': [None],\n",
    "            'max_features': ['auto'], # max_feat_to_check\n",
    "}\n",
    "\n",
    "gb_notes = ''\n",
    "\n",
    "# call the fit_model function\n",
    "all_results, gb_best_model, gb_preds = fit_model(GradientBoostingRegressor(), \n",
    "                                                 'Grad. Boost', \n",
    "                                                 gb_params, \n",
    "                                                 all_results, \n",
    "                                                 gb_notes\n",
    "                                                )\n",
    "\n",
    "# Top features\n",
    "feat_importance = pd.DataFrame(gb_best_model.feature_importances_, index=all_features).sort_values(by=0, ascending=False)\n",
    "feat_importance.head(15).plot(kind='barh')\n"
   ]
  },
  {
   "cell_type": "code",
   "execution_count": 25,
   "metadata": {},
   "outputs": [
    {
     "data": {
      "text/html": [
       "<div>\n",
       "<style scoped>\n",
       "    .dataframe tbody tr th:only-of-type {\n",
       "        vertical-align: middle;\n",
       "    }\n",
       "\n",
       "    .dataframe tbody tr th {\n",
       "        vertical-align: top;\n",
       "    }\n",
       "\n",
       "    .dataframe thead th {\n",
       "        text-align: right;\n",
       "    }\n",
       "</style>\n",
       "<table border=\"1\" class=\"dataframe\">\n",
       "  <thead>\n",
       "    <tr style=\"text-align: right;\">\n",
       "      <th></th>\n",
       "      <th>KNN</th>\n",
       "    </tr>\n",
       "  </thead>\n",
       "  <tbody>\n",
       "    <tr>\n",
       "      <th>Test score</th>\n",
       "      <td>0.837</td>\n",
       "    </tr>\n",
       "    <tr>\n",
       "      <th>Train score</th>\n",
       "      <td>0.797</td>\n",
       "    </tr>\n",
       "  </tbody>\n",
       "</table>\n",
       "</div>"
      ],
      "text/plain": [
       "               KNN\n",
       "Test score   0.837\n",
       "Train score  0.797"
      ]
     },
     "metadata": {},
     "output_type": "display_data"
    },
    {
     "data": {
      "text/html": [
       "<div>\n",
       "<style scoped>\n",
       "    .dataframe tbody tr th:only-of-type {\n",
       "        vertical-align: middle;\n",
       "    }\n",
       "\n",
       "    .dataframe tbody tr th {\n",
       "        vertical-align: top;\n",
       "    }\n",
       "\n",
       "    .dataframe thead th {\n",
       "        text-align: right;\n",
       "    }\n",
       "</style>\n",
       "<table border=\"1\" class=\"dataframe\">\n",
       "  <thead>\n",
       "    <tr style=\"text-align: right;\">\n",
       "      <th></th>\n",
       "      <th>KNN</th>\n",
       "    </tr>\n",
       "  </thead>\n",
       "  <tbody>\n",
       "    <tr>\n",
       "      <th>Best Params</th>\n",
       "      <td>{'metric': 'minkowski', 'n_neighbors': 5, 'p': 1, 'weights': 'distance'}</td>\n",
       "    </tr>\n",
       "    <tr>\n",
       "      <th>Params Tried</th>\n",
       "      <td>{'n_neighbors': [3, 4, 5, 7, 10, 15, 25], 'weights': ['uniform', 'distance'], 'metric': ['minkowski'], 'p': [1, 2, 3]}</td>\n",
       "    </tr>\n",
       "    <tr>\n",
       "      <th>Notes</th>\n",
       "      <td>Beginning Tuning</td>\n",
       "    </tr>\n",
       "  </tbody>\n",
       "</table>\n",
       "</div>"
      ],
      "text/plain": [
       "                                                                                                                                 KNN\n",
       "Best Params                                                 {'metric': 'minkowski', 'n_neighbors': 5, 'p': 1, 'weights': 'distance'}\n",
       "Params Tried  {'n_neighbors': [3, 4, 5, 7, 10, 15, 25], 'weights': ['uniform', 'distance'], 'metric': ['minkowski'], 'p': [1, 2, 3]}\n",
       "Notes                                                                                                               Beginning Tuning"
      ]
     },
     "metadata": {},
     "output_type": "display_data"
    },
    {
     "name": "stdout",
     "output_type": "stream",
     "text": [
      "Runtime:  9.889  minutes\n"
     ]
    },
    {
     "data": {
      "image/png": "[encoded data removed]",
      "text/plain": [
       "<Figure size 576x432 with 1 Axes>"
      ]
     },
     "metadata": {
      "needs_background": "light"
     },
     "output_type": "display_data"
    }
   ],
   "source": [
    "# set parameters\n",
    "knn_params = {\n",
    "    'n_neighbors': [3, 4, 5, 7, 10, 15, 25],\n",
    "    'weights': ['uniform', 'distance'],\n",
    "    'metric': ['minkowski'],\n",
    "    'p': [1, 2, 3] # p = 1 and 2 correspondes to Manhattan and Euclidean distance metrics repsectively\n",
    "}\n",
    "\n",
    "knn_notes = 'Beginning Tuning'\n",
    "\n",
    "# call the fit_model function\n",
    "all_results, knn_best_model, knn_preds = fit_model(KNeighborsRegressor(), 'KNN', knn_params, all_results, knn_notes)\n"
   ]
  },
  {
   "cell_type": "markdown",
   "metadata": {},
   "source": [
    "# Overall Results:"
   ]
  },
  {
   "cell_type": "code",
   "execution_count": 26,
   "metadata": {},
   "outputs": [
    {
     "data": {
      "text/html": [
       "<div>\n",
       "<style scoped>\n",
       "    .dataframe tbody tr th:only-of-type {\n",
       "        vertical-align: middle;\n",
       "    }\n",
       "\n",
       "    .dataframe tbody tr th {\n",
       "        vertical-align: top;\n",
       "    }\n",
       "\n",
       "    .dataframe thead th {\n",
       "        text-align: right;\n",
       "    }\n",
       "</style>\n",
       "<table border=\"1\" class=\"dataframe\">\n",
       "  <thead>\n",
       "    <tr style=\"text-align: right;\">\n",
       "      <th></th>\n",
       "      <th>Random Forest</th>\n",
       "      <th>SVM</th>\n",
       "      <th>Grad. Boost</th>\n",
       "      <th>KNN</th>\n",
       "    </tr>\n",
       "  </thead>\n",
       "  <tbody>\n",
       "    <tr>\n",
       "      <th>Test score</th>\n",
       "      <td>0.853</td>\n",
       "      <td>0.883</td>\n",
       "      <td>0.83</td>\n",
       "      <td>0.837</td>\n",
       "    </tr>\n",
       "    <tr>\n",
       "      <th>Train score</th>\n",
       "      <td>0.863</td>\n",
       "      <td>0.829</td>\n",
       "      <td>0.843</td>\n",
       "      <td>0.797</td>\n",
       "    </tr>\n",
       "  </tbody>\n",
       "</table>\n",
       "</div>"
      ],
      "text/plain": [
       "            Random Forest    SVM Grad. Boost    KNN\n",
       "Test score          0.853  0.883        0.83  0.837\n",
       "Train score         0.863  0.829       0.843  0.797"
      ]
     },
     "metadata": {},
     "output_type": "display_data"
    },
    {
     "data": {
      "text/html": [
       "<div>\n",
       "<style scoped>\n",
       "    .dataframe tbody tr th:only-of-type {\n",
       "        vertical-align: middle;\n",
       "    }\n",
       "\n",
       "    .dataframe tbody tr th {\n",
       "        vertical-align: top;\n",
       "    }\n",
       "\n",
       "    .dataframe thead th {\n",
       "        text-align: right;\n",
       "    }\n",
       "</style>\n",
       "<table border=\"1\" class=\"dataframe\">\n",
       "  <thead>\n",
       "    <tr style=\"text-align: right;\">\n",
       "      <th></th>\n",
       "      <th>Random Forest</th>\n",
       "      <th>SVM</th>\n",
       "      <th>Grad. Boost</th>\n",
       "      <th>KNN</th>\n",
       "    </tr>\n",
       "  </thead>\n",
       "  <tbody>\n",
       "    <tr>\n",
       "      <th>Best Params</th>\n",
       "      <td>{'bootstrap': True, 'max_depth': None, 'max_features': 'auto', 'max_leaf_nodes': None, 'min_samples_leaf': 2, 'min_samples_split': 7, 'n_estimators': 100}</td>\n",
       "      <td>{'C': 10, 'kernel': 'linear'}</td>\n",
       "      <td>{'learning_rate': 0.1, 'max_depth': None, 'max_features': 'auto', 'max_leaf_nodes': None, 'min_samples_leaf': 2, 'min_samples_split': 2, 'n_estimators': 125}</td>\n",
       "      <td>{'metric': 'minkowski', 'n_neighbors': 5, 'p': 1, 'weights': 'distance'}</td>\n",
       "    </tr>\n",
       "    <tr>\n",
       "      <th>Params Tried</th>\n",
       "      <td>{'n_estimators': [100], 'min_samples_split': [7], 'min_samples_leaf': [2], 'bootstrap': [True], 'max_depth': [None], 'max_leaf_nodes': [None], 'max_features': ['auto']}</td>\n",
       "      <td>{'kernel': ['linear', 'poly', 'rbf', 'sigmoid'], 'C': [0.5, 1, 3, 4, 5, 10]}</td>\n",
       "      <td>{'learning_rate': [0.0075, 0.1, 0.125], 'n_estimators': [110, 125, 140], 'min_samples_split': [2], 'min_samples_leaf': [2], 'max_depth': [None], 'max_leaf_nodes': [None], 'max_features': ['auto']}</td>\n",
       "      <td>{'n_neighbors': [3, 4, 5, 7, 10, 15, 25], 'weights': ['uniform', 'distance'], 'metric': ['minkowski'], 'p': [1, 2, 3]}</td>\n",
       "    </tr>\n",
       "    <tr>\n",
       "      <th>Notes</th>\n",
       "      <td>Picked min_samples_leaf=1, bootstrap=True, n_estimators=100, min_samples_leaf=2</td>\n",
       "      <td>Beginning Tuning</td>\n",
       "      <td></td>\n",
       "      <td>Beginning Tuning</td>\n",
       "    </tr>\n",
       "  </tbody>\n",
       "</table>\n",
       "</div>"
      ],
      "text/plain": [
       "                                                                                                                                                                         Random Forest  \\\n",
       "Best Params                 {'bootstrap': True, 'max_depth': None, 'max_features': 'auto', 'max_leaf_nodes': None, 'min_samples_leaf': 2, 'min_samples_split': 7, 'n_estimators': 100}   \n",
       "Params Tried  {'n_estimators': [100], 'min_samples_split': [7], 'min_samples_leaf': [2], 'bootstrap': [True], 'max_depth': [None], 'max_leaf_nodes': [None], 'max_features': ['auto']}   \n",
       "Notes                                                                                                  Picked min_samples_leaf=1, bootstrap=True, n_estimators=100, min_samples_leaf=2   \n",
       "\n",
       "                                                                                       SVM  \\\n",
       "Best Params                                                  {'C': 10, 'kernel': 'linear'}   \n",
       "Params Tried  {'kernel': ['linear', 'poly', 'rbf', 'sigmoid'], 'C': [0.5, 1, 3, 4, 5, 10]}   \n",
       "Notes                                                                     Beginning Tuning   \n",
       "\n",
       "                                                                                                                                                                                                       Grad. Boost  \\\n",
       "Best Params                                          {'learning_rate': 0.1, 'max_depth': None, 'max_features': 'auto', 'max_leaf_nodes': None, 'min_samples_leaf': 2, 'min_samples_split': 2, 'n_estimators': 125}   \n",
       "Params Tried  {'learning_rate': [0.0075, 0.1, 0.125], 'n_estimators': [110, 125, 140], 'min_samples_split': [2], 'min_samples_leaf': [2], 'max_depth': [None], 'max_leaf_nodes': [None], 'max_features': ['auto']}   \n",
       "Notes                                                                                                                                                                                                                \n",
       "\n",
       "                                                                                                                                 KNN  \n",
       "Best Params                                                 {'metric': 'minkowski', 'n_neighbors': 5, 'p': 1, 'weights': 'distance'}  \n",
       "Params Tried  {'n_neighbors': [3, 4, 5, 7, 10, 15, 25], 'weights': ['uniform', 'distance'], 'metric': ['minkowski'], 'p': [1, 2, 3]}  \n",
       "Notes                                                                                                               Beginning Tuning  "
      ]
     },
     "metadata": {},
     "output_type": "display_data"
    }
   ],
   "source": [
    "display(all_results.head(2))\n",
    "display(all_results.tail(3))"
   ]
  },
  {
   "cell_type": "markdown",
   "metadata": {},
   "source": [
    "# Make submission file:"
   ]
  },
  {
   "cell_type": "code",
   "execution_count": 27,
   "metadata": {},
   "outputs": [],
   "source": [
    "# test['SalePrice'] = rf_best_model.predict(test_scaled_df)\n",
    "# test[['Id', 'SalePrice']].sort_values(by='Id').to_csv('submissions.csv',index=False)"
   ]
  },
  {
   "cell_type": "markdown",
   "metadata": {},
   "source": [
    "## Kaggle Submission Link:"
   ]
  },
  {
   "cell_type": "markdown",
   "metadata": {},
   "source": [
    "https://www.kaggle.com/c/dsi-us-5-project-2-regression-challenge"
   ]
  }
 ],
 "metadata": {
  "kernelspec": {
   "display_name": "Python 3",
   "language": "python",
   "name": "python3"
  },
  "language_info": {
   "codemirror_mode": {
    "name": "ipython",
    "version": 3
   },
   "file_extension": ".py",
   "mimetype": "text/x-python",
   "name": "python",
   "nbconvert_exporter": "python",
   "pygments_lexer": "ipython3",
   "version": "3.6.6"
  }
 },
 "nbformat": 4,
 "nbformat_minor": 2
}
